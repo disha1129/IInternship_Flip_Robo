{
 "cells": [
  {
   "cell_type": "code",
   "execution_count": 1,
   "id": "a1a6cc94",
   "metadata": {},
   "outputs": [],
   "source": [
    "# Import Library\n",
    "import selenium\n",
    "import pandas as pd\n",
    "from selenium import webdriver\n",
    "import warnings\n",
    "warnings.filterwarnings('ignore')\n",
    "from selenium.webdriver.common.by import By\n",
    "import time"
   ]
  },
  {
   "cell_type": "code",
   "execution_count": 2,
   "id": "36e0d0af",
   "metadata": {},
   "outputs": [],
   "source": [
    "#let's first connecct to the driver\n",
    "driver = webdriver.Chrome(r\"C:\\Users\\LENOVO\\Anacoda_python\\chromedriver_win32\\chromedriver.exe\")"
   ]
  },
  {
   "cell_type": "code",
   "execution_count": 3,
   "id": "0ced5efb",
   "metadata": {},
   "outputs": [],
   "source": [
    "driver= webdriver.Chrome(r'chromedriver.exe')"
   ]
  },
  {
   "cell_type": "code",
   "execution_count": 6,
   "id": "6680da1d",
   "metadata": {},
   "outputs": [],
   "source": [
    "driver.get('https://www.jagranjosh.com/')\n"
   ]
  },
  {
   "cell_type": "code",
   "execution_count": 7,
   "id": "6b21dd74",
   "metadata": {},
   "outputs": [],
   "source": [
    "Accept= driver.find_element(By.XPATH,'//a[@class=\"closegdper\"]')\n",
    "Accept.click()"
   ]
  },
  {
   "cell_type": "code",
   "execution_count": 9,
   "id": "62378b24",
   "metadata": {},
   "outputs": [],
   "source": [
    "GK= driver.find_element(By.XPATH,'/html/body/div/div[1]/div/div[1]/div/div[5]/div/div[1]/header/div[3]/ul/li[3]/a')\n",
    "GK.click()"
   ]
  },
  {
   "cell_type": "code",
   "execution_count": 11,
   "id": "0e0f57a3",
   "metadata": {},
   "outputs": [],
   "source": [
    "list_of_all_PM = driver.find_element(By.XPATH, '/html/body/div[1]/div/div/div[2]/div/div[10]/div/div/ul/li[2]/a')\n",
    "list_of_all_PM.click()\n"
   ]
  },
  {
   "cell_type": "code",
   "execution_count": null,
   "id": "ef42f85a",
   "metadata": {},
   "outputs": [],
   "source": [
    "data = []\n",
    "\n",
    "rows = driver.find_elements(By.XPATH, \"//div[@class=\"table-box\"]//tr\")\n",
    "\n",
    "for row in rows[1:]:\n",
    "    cells = row.find_elements(By.TAG_NAME, \"td\")\n",
    "    name = cells[0].text\n",
    "    born_dead = cells[1].text\n",
    "    term_of_office = cells[2].text\n",
    "    remarks = cells[3].text\n",
    "    \n",
    "    data.append([name, born_dead, term_of_office, remarks])\n",
    "\n",
    "df = pd.DataFrame(data, columns=[\"Name\", \"Born-Dead\", \"Term of Office\", \"Remarks\"])\n"
   ]
  }
 ],
 "metadata": {
  "kernelspec": {
   "display_name": "Python 3 (ipykernel)",
   "language": "python",
   "name": "python3"
  },
  "language_info": {
   "codemirror_mode": {
    "name": "ipython",
    "version": 3
   },
   "file_extension": ".py",
   "mimetype": "text/x-python",
   "name": "python",
   "nbconvert_exporter": "python",
   "pygments_lexer": "ipython3",
   "version": "3.10.9"
  }
 },
 "nbformat": 4,
 "nbformat_minor": 5
}
