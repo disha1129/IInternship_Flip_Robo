{
 "cells": [
  {
   "cell_type": "code",
   "execution_count": 26,
   "id": "78bb43f4",
   "metadata": {},
   "outputs": [],
   "source": [
    "import selenium\n",
    "import pandas as pd\n",
    "from selenium import webdriver\n",
    "import warnings\n",
    "warnings.filterwarnings('ignore')\n",
    "from selenium.webdriver.common.by import By\n",
    "import time"
   ]
  },
  {
   "cell_type": "code",
   "execution_count": 27,
   "id": "d6aaf72e",
   "metadata": {},
   "outputs": [],
   "source": [
    "#les first connecct to the driver\n",
    "driver = webdriver.Chrome(r\"C:\\Users\\LENOVO\\Anacoda_python\\chromedriver_win32\\chromedriver.exe\")"
   ]
  },
  {
   "cell_type": "code",
   "execution_count": 28,
   "id": "258dfaba",
   "metadata": {},
   "outputs": [],
   "source": [
    "driver= webdriver.Chrome(r'chromedriver.exe')"
   ]
  },
  {
   "cell_type": "code",
   "execution_count": 29,
   "id": "604db497",
   "metadata": {},
   "outputs": [],
   "source": [
    "driver.get('https://www.naukri.com/')\n"
   ]
  },
  {
   "cell_type": "code",
   "execution_count": 30,
   "id": "c88aa8a3",
   "metadata": {},
   "outputs": [],
   "source": [
    "designation = driver.find_element(By.CLASS_NAME, \"suggestor-input\")\n",
    "designation.send_keys('“Data Scientist')"
   ]
  },
  {
   "cell_type": "code",
   "execution_count": 31,
   "id": "55f8cea8",
   "metadata": {},
   "outputs": [],
   "source": [
    "search= driver.find_element(By.CLASS_NAME,\"qsbSubmit\")\n",
    "search.click()"
   ]
  },
  {
   "cell_type": "code",
   "execution_count": 32,
   "id": "e84860ad",
   "metadata": {},
   "outputs": [],
   "source": [
    "location_filter = driver.find_element(By.XPATH, \"//span[text()='Delhi / NCR']\")\n",
    "location_filter.click()\n"
   ]
  },
  {
   "cell_type": "code",
   "execution_count": 33,
   "id": "eafed376",
   "metadata": {},
   "outputs": [],
   "source": [
    "Salary_filter = driver.find_element(By.XPATH, \"//span[text()='3-6 Lakhs']\")\n",
    "Salary_filter.click()\n"
   ]
  },
  {
   "cell_type": "code",
   "execution_count": 34,
   "id": "2d855dd7",
   "metadata": {},
   "outputs": [],
   "source": [
    "job_title=[]\n",
    "job_location=[]\n",
    "company_name=[]\n",
    "experience_required=[]\n",
    "salary_expected=[]"
   ]
  },
  {
   "cell_type": "code",
   "execution_count": 35,
   "id": "50ce04d3",
   "metadata": {},
   "outputs": [],
   "source": [
    "# scraping job title from the given page\n",
    "title_tags= driver.find_elements(By.XPATH,'//a[@class=\"title ellipsis\"]')\n",
    "for i in title_tags[0:10]:\n",
    "    title=i.text\n",
    "    job_title.append(title)"
   ]
  },
  {
   "cell_type": "code",
   "execution_count": 36,
   "id": "fc6d7dc1",
   "metadata": {},
   "outputs": [],
   "source": [
    "# scraping job location from the give page\n",
    "location_tags=driver.find_elements(By.XPATH,'//span[@class=\"ellipsis fleft locWdth\"]')\n",
    "for i in location_tags[0:10]:\n",
    "    location=i.text\n",
    "    job_location.append(location)"
   ]
  },
  {
   "cell_type": "code",
   "execution_count": 37,
   "id": "dca64db4",
   "metadata": {},
   "outputs": [],
   "source": [
    "# Scraping company name from the given page\n",
    "company_tags= driver.find_elements(By.XPATH,'//a[@class=\"subTitle ellipsis fleft\"]')\n",
    "for i in company_tags[0:10]:\n",
    "    company=i.text\n",
    "    company_name.append(company)"
   ]
  },
  {
   "cell_type": "code",
   "execution_count": 38,
   "id": "db12c523",
   "metadata": {},
   "outputs": [],
   "source": [
    "# Scraping experience from the given page\n",
    "experience_tags= driver.find_elements(By.XPATH,'//span[@class=\"ellipsis fleft expwdth\"]')\n",
    "for i in experience_tags[0:10]:\n",
    "    experience=i.text\n",
    "    experience_required.append(experience)"
   ]
  },
  {
   "cell_type": "code",
   "execution_count": 39,
   "id": "3a000af5",
   "metadata": {},
   "outputs": [],
   "source": [
    "# Scraping experience from the given page\n",
    "salary_tags= driver.find_elements(By.XPATH,'//span[@class=\"ellipsis fleft \"]')\n",
    "for i in salary_tags[0:10]:\n",
    "    salary=i.text\n",
    "    salary_expected.append(salary)"
   ]
  },
  {
   "cell_type": "code",
   "execution_count": 40,
   "id": "731119e1",
   "metadata": {},
   "outputs": [],
   "source": [
    "# Make DataFrame for scrape data into information\n",
    "import pandas as pd\n",
    "df=pd.DataFrame({\"Title\":job_title,'Company Name':company_name,'Location':job_location,'Experience Required': experience_required,'Salary Excepted':salary_expected})"
   ]
  },
  {
   "cell_type": "code",
   "execution_count": 41,
   "id": "e11d2ba0",
   "metadata": {},
   "outputs": [
    {
     "data": {
      "text/html": [
       "<div>\n",
       "<style scoped>\n",
       "    .dataframe tbody tr th:only-of-type {\n",
       "        vertical-align: middle;\n",
       "    }\n",
       "\n",
       "    .dataframe tbody tr th {\n",
       "        vertical-align: top;\n",
       "    }\n",
       "\n",
       "    .dataframe thead th {\n",
       "        text-align: right;\n",
       "    }\n",
       "</style>\n",
       "<table border=\"1\" class=\"dataframe\">\n",
       "  <thead>\n",
       "    <tr style=\"text-align: right;\">\n",
       "      <th></th>\n",
       "      <th>Title</th>\n",
       "      <th>Company Name</th>\n",
       "      <th>Location</th>\n",
       "      <th>Experience Required</th>\n",
       "      <th>Salary Excepted</th>\n",
       "    </tr>\n",
       "  </thead>\n",
       "  <tbody>\n",
       "    <tr>\n",
       "      <th>0</th>\n",
       "      <td>Looking For Data Scientist (Finance Background...</td>\n",
       "      <td>Evalueserve</td>\n",
       "      <td>Hybrid - Gurgaon/ Gurugram, Haryana</td>\n",
       "      <td>3-7 Yrs</td>\n",
       "      <td>Not disclosed</td>\n",
       "    </tr>\n",
       "    <tr>\n",
       "      <th>1</th>\n",
       "      <td>Data Scientist</td>\n",
       "      <td>Tata Consultancy Services (TCS)</td>\n",
       "      <td>Delhi / NCR</td>\n",
       "      <td>7-12 Yrs</td>\n",
       "      <td>50,000-3 Lacs PA</td>\n",
       "    </tr>\n",
       "    <tr>\n",
       "      <th>2</th>\n",
       "      <td>Data scientist</td>\n",
       "      <td>Vertexplus Technologies</td>\n",
       "      <td>Noida</td>\n",
       "      <td>0-5 Yrs</td>\n",
       "      <td>Not disclosed</td>\n",
       "    </tr>\n",
       "    <tr>\n",
       "      <th>3</th>\n",
       "      <td>Data Scientist</td>\n",
       "      <td>Blackbuck</td>\n",
       "      <td>Gurgaon/Gurugram, Bangalore/Bengaluru</td>\n",
       "      <td>3-7 Yrs</td>\n",
       "      <td>Not disclosed</td>\n",
       "    </tr>\n",
       "    <tr>\n",
       "      <th>4</th>\n",
       "      <td>Data Scientist</td>\n",
       "      <td>Innovaccer</td>\n",
       "      <td>Noida</td>\n",
       "      <td>2-4 Yrs</td>\n",
       "      <td>Not disclosed</td>\n",
       "    </tr>\n",
       "    <tr>\n",
       "      <th>5</th>\n",
       "      <td>MLOps - Data Scientist</td>\n",
       "      <td>Paytm</td>\n",
       "      <td>Noida</td>\n",
       "      <td>3-8 Yrs</td>\n",
       "      <td>Not disclosed</td>\n",
       "    </tr>\n",
       "    <tr>\n",
       "      <th>6</th>\n",
       "      <td>Data Scientist</td>\n",
       "      <td>Analytos</td>\n",
       "      <td>Kolkata, Mumbai, New Delhi, Hyderabad/Secunder...</td>\n",
       "      <td>2-4 Yrs</td>\n",
       "      <td>Not disclosed</td>\n",
       "    </tr>\n",
       "    <tr>\n",
       "      <th>7</th>\n",
       "      <td>Data Scientist</td>\n",
       "      <td>Splash Math App</td>\n",
       "      <td>Gurgaon/Gurugram</td>\n",
       "      <td>3-6 Yrs</td>\n",
       "      <td>Not disclosed</td>\n",
       "    </tr>\n",
       "    <tr>\n",
       "      <th>8</th>\n",
       "      <td>Data Scientist - I</td>\n",
       "      <td>Netomi</td>\n",
       "      <td>Gurgaon/Gurugram</td>\n",
       "      <td>3-6 Yrs</td>\n",
       "      <td>Not disclosed</td>\n",
       "    </tr>\n",
       "    <tr>\n",
       "      <th>9</th>\n",
       "      <td>Data Scientist</td>\n",
       "      <td>Gforce Consulting Solutions</td>\n",
       "      <td>Kolkata, Pune, Gurgaon/Gurugram</td>\n",
       "      <td>3-8 Yrs</td>\n",
       "      <td>Not disclosed</td>\n",
       "    </tr>\n",
       "  </tbody>\n",
       "</table>\n",
       "</div>"
      ],
      "text/plain": [
       "                                               Title  \\\n",
       "0  Looking For Data Scientist (Finance Background...   \n",
       "1                                     Data Scientist   \n",
       "2                                     Data scientist   \n",
       "3                                     Data Scientist   \n",
       "4                                     Data Scientist   \n",
       "5                             MLOps - Data Scientist   \n",
       "6                                     Data Scientist   \n",
       "7                                     Data Scientist   \n",
       "8                                 Data Scientist - I   \n",
       "9                                     Data Scientist   \n",
       "\n",
       "                      Company Name  \\\n",
       "0                      Evalueserve   \n",
       "1  Tata Consultancy Services (TCS)   \n",
       "2          Vertexplus Technologies   \n",
       "3                        Blackbuck   \n",
       "4                       Innovaccer   \n",
       "5                            Paytm   \n",
       "6                         Analytos   \n",
       "7                  Splash Math App   \n",
       "8                           Netomi   \n",
       "9      Gforce Consulting Solutions   \n",
       "\n",
       "                                            Location Experience Required  \\\n",
       "0                Hybrid - Gurgaon/ Gurugram, Haryana             3-7 Yrs   \n",
       "1                                        Delhi / NCR            7-12 Yrs   \n",
       "2                                              Noida             0-5 Yrs   \n",
       "3              Gurgaon/Gurugram, Bangalore/Bengaluru             3-7 Yrs   \n",
       "4                                              Noida             2-4 Yrs   \n",
       "5                                              Noida             3-8 Yrs   \n",
       "6  Kolkata, Mumbai, New Delhi, Hyderabad/Secunder...             2-4 Yrs   \n",
       "7                                   Gurgaon/Gurugram             3-6 Yrs   \n",
       "8                                   Gurgaon/Gurugram             3-6 Yrs   \n",
       "9                    Kolkata, Pune, Gurgaon/Gurugram             3-8 Yrs   \n",
       "\n",
       "    Salary Excepted  \n",
       "0     Not disclosed  \n",
       "1  50,000-3 Lacs PA  \n",
       "2     Not disclosed  \n",
       "3     Not disclosed  \n",
       "4     Not disclosed  \n",
       "5     Not disclosed  \n",
       "6     Not disclosed  \n",
       "7     Not disclosed  \n",
       "8     Not disclosed  \n",
       "9     Not disclosed  "
      ]
     },
     "execution_count": 41,
     "metadata": {},
     "output_type": "execute_result"
    }
   ],
   "source": [
    "df"
   ]
  },
  {
   "cell_type": "code",
   "execution_count": null,
   "id": "d9c7eea1",
   "metadata": {},
   "outputs": [],
   "source": []
  }
 ],
 "metadata": {
  "kernelspec": {
   "display_name": "Python 3 (ipykernel)",
   "language": "python",
   "name": "python3"
  },
  "language_info": {
   "codemirror_mode": {
    "name": "ipython",
    "version": 3
   },
   "file_extension": ".py",
   "mimetype": "text/x-python",
   "name": "python",
   "nbconvert_exporter": "python",
   "pygments_lexer": "ipython3",
   "version": "3.10.9"
  }
 },
 "nbformat": 4,
 "nbformat_minor": 5
}
