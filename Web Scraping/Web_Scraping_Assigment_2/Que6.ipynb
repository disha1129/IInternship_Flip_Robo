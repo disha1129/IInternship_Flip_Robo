{
 "cells": [
  {
   "cell_type": "code",
   "execution_count": 1,
   "id": "04aeacdc",
   "metadata": {},
   "outputs": [],
   "source": [
    "import selenium\n",
    "import pandas as pd\n",
    "from selenium import webdriver\n",
    "import warnings\n",
    "warnings.filterwarnings('ignore')\n",
    "from selenium.webdriver.common.by import By\n",
    "import time"
   ]
  },
  {
   "cell_type": "code",
   "execution_count": 2,
   "id": "003f0bb9",
   "metadata": {},
   "outputs": [],
   "source": [
    "#les first connecct to the driver\n",
    "driver = webdriver.Chrome(r\"C:\\Users\\LENOVO\\Anacoda_python\\chromedriver_win32\\chromedriver.exe\")"
   ]
  },
  {
   "cell_type": "code",
   "execution_count": 3,
   "id": "0bfebf6d",
   "metadata": {},
   "outputs": [],
   "source": [
    "driver= webdriver.Chrome(r'chromedriver.exe')"
   ]
  },
  {
   "cell_type": "code",
   "execution_count": 4,
   "id": "9cf4a656",
   "metadata": {},
   "outputs": [],
   "source": [
    "driver.get('https://www.flipkart.com/')\n"
   ]
  },
  {
   "cell_type": "code",
   "execution_count": 5,
   "id": "8d24e010",
   "metadata": {},
   "outputs": [],
   "source": [
    "sunglasses = driver.find_element(By.XPATH, '//input[@class=\"_3704LK\"]')\n",
    "sunglasses.send_keys('sneakers')\n"
   ]
  },
  {
   "cell_type": "code",
   "execution_count": 6,
   "id": "ed3c7e47",
   "metadata": {},
   "outputs": [],
   "source": [
    "cancel_button= driver.find_element(By.XPATH,'//button[@class=\"_2KpZ6l _2doB4z\"]')\n",
    "cancel_button.click()"
   ]
  },
  {
   "cell_type": "code",
   "execution_count": 7,
   "id": "1c7e0328",
   "metadata": {},
   "outputs": [],
   "source": [
    "search= driver.find_element(By.XPATH,'//button[@class=\"L0Z3Pu\"]')\n",
    "search.click()"
   ]
  },
  {
   "cell_type": "code",
   "execution_count": 8,
   "id": "4296ebf0",
   "metadata": {},
   "outputs": [],
   "source": [
    "Brand=[]\n",
    "Product_Description=[]\n",
    "Price=[]"
   ]
  },
  {
   "cell_type": "code",
   "execution_count": 9,
   "id": "4cb30cbb",
   "metadata": {},
   "outputs": [],
   "source": [
    "# scraping Brand Name from the given page\n",
    "start=0\n",
    "end=3\n",
    "for page in range(start,end):\n",
    "    Brand_tags= driver.find_elements(By.XPATH,'//div[@class=\"_2WkVRV\"]')\n",
    "    for i in Brand_tags[0:100]:\n",
    "        Brands=i.text\n",
    "        Brand.append(Brands)\n",
    "    next_button= driver.find_element(By.XPATH,'//a[@class=\"_1LKTO3\"]')\n",
    "    next_button.click()\n",
    "    time.sleep(3)"
   ]
  },
  {
   "cell_type": "code",
   "execution_count": 10,
   "id": "c2ef0a9d",
   "metadata": {},
   "outputs": [
    {
     "data": {
      "text/plain": [
       "120"
      ]
     },
     "execution_count": 10,
     "metadata": {},
     "output_type": "execute_result"
    }
   ],
   "source": [
    "len(Brand)"
   ]
  },
  {
   "cell_type": "code",
   "execution_count": 11,
   "id": "2cc9b1f4",
   "metadata": {},
   "outputs": [],
   "source": [
    "# scraping Product Description from the given page\n",
    "start=0\n",
    "end=3\n",
    "for page in range(start,end):\n",
    "    Desc_tags= driver.find_elements(By.XPATH,'//a[contains(@class,\"IRpwTa\")]')\n",
    "    for i in Desc_tags[0:100]:\n",
    "        Description=i.text\n",
    "        Product_Description.append(Description)\n",
    "    next_button= driver.find_element(By.XPATH,'//a[@class=\"_1LKTO3\"]')\n",
    "    next_button.click()\n",
    "    time.sleep(3)"
   ]
  },
  {
   "cell_type": "code",
   "execution_count": 12,
   "id": "e1982794",
   "metadata": {},
   "outputs": [
    {
     "data": {
      "text/plain": [
       "120"
      ]
     },
     "execution_count": 12,
     "metadata": {},
     "output_type": "execute_result"
    }
   ],
   "source": [
    "len(Product_Description)"
   ]
  },
  {
   "cell_type": "code",
   "execution_count": 13,
   "id": "f0762c68",
   "metadata": {},
   "outputs": [],
   "source": [
    "# scraping Price from the given page\n",
    "start=0\n",
    "end=3\n",
    "for page in range(start,end):\n",
    "    price_tags= driver.find_elements(By.XPATH,'//div[@class=\"_30jeq3\"]')\n",
    "    for i in price_tags[0:100]:\n",
    "        prices=i.text\n",
    "        Price.append(prices)\n",
    "    next_button= driver.find_element(By.XPATH,'//a[@class=\"_1LKTO3\"]')\n",
    "    next_button.click()\n",
    "    time.sleep(3)"
   ]
  },
  {
   "cell_type": "code",
   "execution_count": 14,
   "id": "07125c21",
   "metadata": {},
   "outputs": [
    {
     "data": {
      "text/plain": [
       "120"
      ]
     },
     "execution_count": 14,
     "metadata": {},
     "output_type": "execute_result"
    }
   ],
   "source": [
    "len(Price)"
   ]
  },
  {
   "cell_type": "code",
   "execution_count": 15,
   "id": "a743242c",
   "metadata": {},
   "outputs": [],
   "source": [
    "# Make DataFrame for scrape data into information\n",
    "import pandas as pd\n",
    "df=pd.DataFrame({\"Brand\":Brand,'Product_Description':Product_Description,'Price': Price})"
   ]
  },
  {
   "cell_type": "code",
   "execution_count": 16,
   "id": "af9af78d",
   "metadata": {},
   "outputs": [
    {
     "data": {
      "text/html": [
       "<div>\n",
       "<style scoped>\n",
       "    .dataframe tbody tr th:only-of-type {\n",
       "        vertical-align: middle;\n",
       "    }\n",
       "\n",
       "    .dataframe tbody tr th {\n",
       "        vertical-align: top;\n",
       "    }\n",
       "\n",
       "    .dataframe thead th {\n",
       "        text-align: right;\n",
       "    }\n",
       "</style>\n",
       "<table border=\"1\" class=\"dataframe\">\n",
       "  <thead>\n",
       "    <tr style=\"text-align: right;\">\n",
       "      <th></th>\n",
       "      <th>Brand</th>\n",
       "      <th>Product_Description</th>\n",
       "      <th>Price</th>\n",
       "    </tr>\n",
       "  </thead>\n",
       "  <tbody>\n",
       "    <tr>\n",
       "      <th>0</th>\n",
       "      <td>Airson</td>\n",
       "      <td>Junior Zero1 Sports Sneakers for Men | Running...</td>\n",
       "      <td>₹369</td>\n",
       "    </tr>\n",
       "    <tr>\n",
       "      <th>1</th>\n",
       "      <td>EZDEZARIO</td>\n",
       "      <td>Sneakers For Men</td>\n",
       "      <td>₹449</td>\n",
       "    </tr>\n",
       "    <tr>\n",
       "      <th>2</th>\n",
       "      <td>aadi</td>\n",
       "      <td>Lightweight,Comfort,Summer,Trendy,Walking,Outd...</td>\n",
       "      <td>₹399</td>\n",
       "    </tr>\n",
       "    <tr>\n",
       "      <th>3</th>\n",
       "      <td>asian</td>\n",
       "      <td>Thunder-01 White Color Change Sneakers,Casuals...</td>\n",
       "      <td>₹399</td>\n",
       "    </tr>\n",
       "    <tr>\n",
       "      <th>4</th>\n",
       "      <td>BRUTON</td>\n",
       "      <td>Modern Trendy Sneakers Shoes Sneakers For Men</td>\n",
       "      <td>₹249</td>\n",
       "    </tr>\n",
       "    <tr>\n",
       "      <th>...</th>\n",
       "      <td>...</td>\n",
       "      <td>...</td>\n",
       "      <td>...</td>\n",
       "    </tr>\n",
       "    <tr>\n",
       "      <th>115</th>\n",
       "      <td>asian</td>\n",
       "      <td>Men's W-05 Casual White Sneaker Shoes With Wat...</td>\n",
       "      <td>₹349</td>\n",
       "    </tr>\n",
       "    <tr>\n",
       "      <th>116</th>\n",
       "      <td>SFR</td>\n",
       "      <td>Sneakers For Men</td>\n",
       "      <td>₹379</td>\n",
       "    </tr>\n",
       "    <tr>\n",
       "      <th>117</th>\n",
       "      <td>SFR</td>\n",
       "      <td>Sneakers For Men</td>\n",
       "      <td>₹499</td>\n",
       "    </tr>\n",
       "    <tr>\n",
       "      <th>118</th>\n",
       "      <td>K- FOOTLANCE</td>\n",
       "      <td>Sneakers For Men</td>\n",
       "      <td>₹429</td>\n",
       "    </tr>\n",
       "    <tr>\n",
       "      <th>119</th>\n",
       "      <td>BRUTON</td>\n",
       "      <td>Combo Pack Of 4 Casual Shoes Loafer Shoes Snea...</td>\n",
       "      <td>₹399</td>\n",
       "    </tr>\n",
       "  </tbody>\n",
       "</table>\n",
       "<p>120 rows × 3 columns</p>\n",
       "</div>"
      ],
      "text/plain": [
       "            Brand                                Product_Description Price\n",
       "0          Airson  Junior Zero1 Sports Sneakers for Men | Running...  ₹369\n",
       "1       EZDEZARIO                                   Sneakers For Men  ₹449\n",
       "2            aadi  Lightweight,Comfort,Summer,Trendy,Walking,Outd...  ₹399\n",
       "3           asian  Thunder-01 White Color Change Sneakers,Casuals...  ₹399\n",
       "4          BRUTON      Modern Trendy Sneakers Shoes Sneakers For Men  ₹249\n",
       "..            ...                                                ...   ...\n",
       "115         asian  Men's W-05 Casual White Sneaker Shoes With Wat...  ₹349\n",
       "116           SFR                                   Sneakers For Men  ₹379\n",
       "117           SFR                                   Sneakers For Men  ₹499\n",
       "118  K- FOOTLANCE                                   Sneakers For Men  ₹429\n",
       "119        BRUTON  Combo Pack Of 4 Casual Shoes Loafer Shoes Snea...  ₹399\n",
       "\n",
       "[120 rows x 3 columns]"
      ]
     },
     "execution_count": 16,
     "metadata": {},
     "output_type": "execute_result"
    }
   ],
   "source": [
    "df"
   ]
  },
  {
   "cell_type": "code",
   "execution_count": null,
   "id": "f28d07cc",
   "metadata": {},
   "outputs": [],
   "source": []
  }
 ],
 "metadata": {
  "kernelspec": {
   "display_name": "Python 3 (ipykernel)",
   "language": "python",
   "name": "python3"
  },
  "language_info": {
   "codemirror_mode": {
    "name": "ipython",
    "version": 3
   },
   "file_extension": ".py",
   "mimetype": "text/x-python",
   "name": "python",
   "nbconvert_exporter": "python",
   "pygments_lexer": "ipython3",
   "version": "3.10.9"
  }
 },
 "nbformat": 4,
 "nbformat_minor": 5
}
