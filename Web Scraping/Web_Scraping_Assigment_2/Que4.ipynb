{
 "cells": [
  {
   "cell_type": "code",
   "execution_count": 1,
   "id": "4639348e",
   "metadata": {},
   "outputs": [],
   "source": [
    "import selenium\n",
    "import pandas as pd\n",
    "from selenium import webdriver\n",
    "import warnings\n",
    "warnings.filterwarnings('ignore')\n",
    "from selenium.webdriver.common.by import By\n",
    "import time"
   ]
  },
  {
   "cell_type": "code",
   "execution_count": 2,
   "id": "c1b069cd",
   "metadata": {},
   "outputs": [],
   "source": [
    "#les first connecct to the driver\n",
    "driver = webdriver.Chrome(r\"C:\\Users\\LENOVO\\Anacoda_python\\chromedriver_win32\\chromedriver.exe\")"
   ]
  },
  {
   "cell_type": "code",
   "execution_count": 3,
   "id": "ad0b6dd0",
   "metadata": {},
   "outputs": [],
   "source": [
    "driver= webdriver.Chrome(r'chromedriver.exe')"
   ]
  },
  {
   "cell_type": "code",
   "execution_count": 4,
   "id": "14fd2891",
   "metadata": {},
   "outputs": [],
   "source": [
    "driver.get('https://www.flipkart.com/')\n"
   ]
  },
  {
   "cell_type": "code",
   "execution_count": 5,
   "id": "b4252fd3",
   "metadata": {},
   "outputs": [],
   "source": [
    "sunglasses = driver.find_element(By.XPATH, '//input[@class=\"_3704LK\"]')\n",
    "sunglasses.send_keys('sunglasses')\n"
   ]
  },
  {
   "cell_type": "code",
   "execution_count": 7,
   "id": "ae72b9de",
   "metadata": {},
   "outputs": [],
   "source": [
    "search= driver.find_element(By.XPATH,'//button[@class=\"L0Z3Pu\"]')\n",
    "search.click()"
   ]
  },
  {
   "cell_type": "code",
   "execution_count": null,
   "id": "58426782",
   "metadata": {},
   "outputs": [],
   "source": [
    "Brand=[]\n",
    "Product_Description=[]\n",
    "Price=[]"
   ]
  },
  {
   "cell_type": "code",
   "execution_count": null,
   "id": "8809ed7a",
   "metadata": {},
   "outputs": [],
   "source": [
    "# scraping Brand Name from the given page\n",
    "start=0\n",
    "end=3\n",
    "for page in range(start,end):\n",
    "    Brand_tags= driver.find_elements(By.XPATH,'//div[@class=\"_2WkVRV\"]')\n",
    "    for i in Brand_tags[0:100]:\n",
    "        Brands=i.text\n",
    "        Brand.append(Brands)\n",
    "    next_button= driver.find_element(By.XPATH,'//a[@class=\"ge-49M\"]')\n",
    "    next_button.click()\n",
    "    time.sleep(3)"
   ]
  },
  {
   "cell_type": "code",
   "execution_count": null,
   "id": "ffd8a844",
   "metadata": {},
   "outputs": [],
   "source": [
    "# scraping ProductDescription from the given page\n",
    "start=0\n",
    "end=3\n",
    "for page in range(start,end):\n",
    "    Desc_tags= driver.find_elements(By.XPATH,'//a[contains(@class,\"IRpwTa\")]')\n",
    "    for i in Desc_tags[0:100]:\n",
    "        Description=i.text\n",
    "        Product_Description.append(Description)\n",
    "    next_button= driver.find_element(By.XPATH,'//a[@class=\"ge-49M\"]')\n",
    "    next_button.click()\n",
    "    time.sleep(3)"
   ]
  },
  {
   "cell_type": "code",
   "execution_count": null,
   "id": "e907c815",
   "metadata": {},
   "outputs": [],
   "source": [
    "# scraping Price from the given page\n",
    "start=0\n",
    "end=3\n",
    "for page in range(start,end):\n",
    "    price_tags= driver.find_elements(By.XPATH,'//div[@class=\"_30jeq3\"]')\n",
    "    for i in price_tags[0:100]:\n",
    "        prices=i.text\n",
    "        Price.append(prices)\n",
    "    next_button= driver.find_element(By.XPATH,'//a[@class=\"ge-49M\"]')\n",
    "    next_button.click()\n",
    "    time.sleep(3)"
   ]
  },
  {
   "cell_type": "code",
   "execution_count": null,
   "id": "f69b545d",
   "metadata": {},
   "outputs": [],
   "source": [
    "# Make DataFrame for scrape data into information\n",
    "import pandas as pd\n",
    "df=pd.DataFrame({\"Brand\":Brand,'Product_Description':Product_Description,'Price': Price})"
   ]
  },
  {
   "cell_type": "code",
   "execution_count": null,
   "id": "9dfbe8fa",
   "metadata": {},
   "outputs": [],
   "source": [
    "len(Brand)"
   ]
  },
  {
   "cell_type": "code",
   "execution_count": null,
   "id": "9ab5d413",
   "metadata": {},
   "outputs": [],
   "source": [
    "len(Product_Description)"
   ]
  },
  {
   "cell_type": "code",
   "execution_count": null,
   "id": "37760250",
   "metadata": {},
   "outputs": [],
   "source": [
    "len(Price)"
   ]
  },
  {
   "cell_type": "code",
   "execution_count": null,
   "id": "967cc4c6",
   "metadata": {},
   "outputs": [],
   "source": []
  }
 ],
 "metadata": {
  "kernelspec": {
   "display_name": "Python 3 (ipykernel)",
   "language": "python",
   "name": "python3"
  },
  "language_info": {
   "codemirror_mode": {
    "name": "ipython",
    "version": 3
   },
   "file_extension": ".py",
   "mimetype": "text/x-python",
   "name": "python",
   "nbconvert_exporter": "python",
   "pygments_lexer": "ipython3",
   "version": "3.10.9"
  }
 },
 "nbformat": 4,
 "nbformat_minor": 5
}
