{
 "cells": [
  {
   "cell_type": "code",
   "execution_count": 1,
   "id": "6c7e2a7a",
   "metadata": {},
   "outputs": [],
   "source": [
    "# Import Library\n",
    "import selenium\n",
    "import pandas as pd\n",
    "from selenium import webdriver\n",
    "import warnings\n",
    "warnings.filterwarnings('ignore')\n",
    "from selenium.webdriver.common.by import By\n",
    "import time"
   ]
  },
  {
   "cell_type": "code",
   "execution_count": 2,
   "id": "2164dfa5",
   "metadata": {},
   "outputs": [],
   "source": [
    "#les first connecct to the driver\n",
    "driver = webdriver.Chrome(r\"C:\\Users\\LENOVO\\Anacoda_python\\chromedriver_win32\\chromedriver.exe\")"
   ]
  },
  {
   "cell_type": "code",
   "execution_count": 3,
   "id": "8e1a3525",
   "metadata": {},
   "outputs": [],
   "source": [
    "driver= webdriver.Chrome(r'chromedriver.exe')"
   ]
  },
  {
   "cell_type": "code",
   "execution_count": 4,
   "id": "663527df",
   "metadata": {},
   "outputs": [],
   "source": [
    "driver.get('https://www.flipkart.com/')\n"
   ]
  },
  {
   "cell_type": "code",
   "execution_count": 5,
   "id": "48be4652",
   "metadata": {},
   "outputs": [],
   "source": [
    "laptop = driver.find_element(By.XPATH, '//input[@class=\"_3704LK\"]')\n",
    "laptop.send_keys('laptop')\n"
   ]
  },
  {
   "cell_type": "code",
   "execution_count": 6,
   "id": "8a8dc070",
   "metadata": {},
   "outputs": [],
   "source": [
    "cancel_button= driver.find_element(By.XPATH,'//button[@class=\"_2KpZ6l _2doB4z\"]')\n",
    "cancel_button.click()"
   ]
  },
  {
   "cell_type": "code",
   "execution_count": 7,
   "id": "a95fe12e",
   "metadata": {},
   "outputs": [],
   "source": [
    "search= driver.find_element(By.XPATH,'//button[@class=\"L0Z3Pu\"]')\n",
    "search.click()"
   ]
  },
  {
   "cell_type": "code",
   "execution_count": 18,
   "id": "7680e6a1",
   "metadata": {},
   "outputs": [],
   "source": [
    "Processor_filter = driver.find_element(By.XPATH, \"//div[text()='Core i7']\")\n",
    "Processor_filter.click()\n"
   ]
  },
  {
   "cell_type": "code",
   "execution_count": 20,
   "id": "43132c37",
   "metadata": {},
   "outputs": [],
   "source": [
    "Processor_Brand_filter = driver.find_element(By.XPATH, \"//div[text()='Intel']\")\n",
    "Processor_Brand_filter.click()\n"
   ]
  },
  {
   "cell_type": "code",
   "execution_count": 21,
   "id": "16e781ac",
   "metadata": {},
   "outputs": [],
   "source": [
    "# Making list for scrape data for storing information\n",
    "Title=[]\n",
    "Ratings=[]\n",
    "Price=[]\n"
   ]
  },
  {
   "cell_type": "code",
   "execution_count": 22,
   "id": "3a2306f7",
   "metadata": {},
   "outputs": [],
   "source": [
    "# scraping  title from the given page\n",
    "title_tags= driver.find_elements(By.XPATH,'//div[@class=\"_4rR01T\"]')\n",
    "for i in title_tags[0:10]:\n",
    "    title=i.text\n",
    "    Title.append(title)"
   ]
  },
  {
   "cell_type": "code",
   "execution_count": 23,
   "id": "d439e004",
   "metadata": {},
   "outputs": [
    {
     "data": {
      "text/plain": [
       "10"
      ]
     },
     "execution_count": 23,
     "metadata": {},
     "output_type": "execute_result"
    }
   ],
   "source": [
    "len(Title)"
   ]
  },
  {
   "cell_type": "code",
   "execution_count": 24,
   "id": "281ed7ab",
   "metadata": {},
   "outputs": [],
   "source": [
    "Rating_tags= driver.find_elements(By.XPATH,'//div[contains(@class,\"_3LWZlK\")]')\n",
    "for i in Rating_tags[0:10]:\n",
    "    Rating=i.text\n",
    "    Ratings.append(Rating)"
   ]
  },
  {
   "cell_type": "code",
   "execution_count": 25,
   "id": "4b226425",
   "metadata": {},
   "outputs": [
    {
     "data": {
      "text/plain": [
       "10"
      ]
     },
     "execution_count": 25,
     "metadata": {},
     "output_type": "execute_result"
    }
   ],
   "source": [
    "len(Ratings)"
   ]
  },
  {
   "cell_type": "code",
   "execution_count": 26,
   "id": "0539de8b",
   "metadata": {},
   "outputs": [],
   "source": [
    "price_tags= driver.find_elements(By.XPATH,'//div[@class=\"_30jeq3 _1_WHN1\"]')\n",
    "for i in price_tags[0:10]:\n",
    "    prices=i.text\n",
    "    Price.append(prices)"
   ]
  },
  {
   "cell_type": "code",
   "execution_count": 27,
   "id": "38488ea6",
   "metadata": {},
   "outputs": [
    {
     "data": {
      "text/plain": [
       "10"
      ]
     },
     "execution_count": 27,
     "metadata": {},
     "output_type": "execute_result"
    }
   ],
   "source": [
    "len(Price)"
   ]
  },
  {
   "cell_type": "code",
   "execution_count": 28,
   "id": "82a7aac0",
   "metadata": {},
   "outputs": [],
   "source": [
    "# Make Data Frame for store scrape inforamtion\n",
    "df= pd.DataFrame({'Title':Title,'Ratings':Ratings,'Price':Price})"
   ]
  },
  {
   "cell_type": "code",
   "execution_count": 29,
   "id": "9e3917ac",
   "metadata": {},
   "outputs": [
    {
     "data": {
      "text/html": [
       "<div>\n",
       "<style scoped>\n",
       "    .dataframe tbody tr th:only-of-type {\n",
       "        vertical-align: middle;\n",
       "    }\n",
       "\n",
       "    .dataframe tbody tr th {\n",
       "        vertical-align: top;\n",
       "    }\n",
       "\n",
       "    .dataframe thead th {\n",
       "        text-align: right;\n",
       "    }\n",
       "</style>\n",
       "<table border=\"1\" class=\"dataframe\">\n",
       "  <thead>\n",
       "    <tr style=\"text-align: right;\">\n",
       "      <th></th>\n",
       "      <th>Title</th>\n",
       "      <th>Ratings</th>\n",
       "      <th>Price</th>\n",
       "    </tr>\n",
       "  </thead>\n",
       "  <tbody>\n",
       "    <tr>\n",
       "      <th>0</th>\n",
       "      <td>Lenovo IdeaPad Gaming 3 Intel Core i7 12th Gen...</td>\n",
       "      <td>4</td>\n",
       "      <td>₹1,04,135</td>\n",
       "    </tr>\n",
       "    <tr>\n",
       "      <th>1</th>\n",
       "      <td>Acer Predator Neo (2023) Core i7 13th Gen - (1...</td>\n",
       "      <td>5</td>\n",
       "      <td>₹1,24,990</td>\n",
       "    </tr>\n",
       "    <tr>\n",
       "      <th>2</th>\n",
       "      <td>MSI Core i7 12th Gen - (16 GB/1 TB SSD/Windows...</td>\n",
       "      <td>4</td>\n",
       "      <td>₹1,65,990</td>\n",
       "    </tr>\n",
       "    <tr>\n",
       "      <th>3</th>\n",
       "      <td>Acer Predator Neo (2023) Core i7 13th Gen - (1...</td>\n",
       "      <td>4.3</td>\n",
       "      <td>₹1,49,990</td>\n",
       "    </tr>\n",
       "    <tr>\n",
       "      <th>4</th>\n",
       "      <td>ASUS TUF Gaming F15 (2022) Core i7 12th Gen - ...</td>\n",
       "      <td>4.5</td>\n",
       "      <td>₹93,990</td>\n",
       "    </tr>\n",
       "    <tr>\n",
       "      <th>5</th>\n",
       "      <td>HP Pavilion Core i7 12th Gen - (16 GB/1 TB SSD...</td>\n",
       "      <td>4.3</td>\n",
       "      <td>₹84,999</td>\n",
       "    </tr>\n",
       "    <tr>\n",
       "      <th>6</th>\n",
       "      <td>MSI Core i7 11th Gen - (8 GB/512 GB SSD/Window...</td>\n",
       "      <td>4.3</td>\n",
       "      <td>₹67,990</td>\n",
       "    </tr>\n",
       "    <tr>\n",
       "      <th>7</th>\n",
       "      <td>MSI Core i7 13th Gen - (16 GB/512 GB SSD/Windo...</td>\n",
       "      <td>3</td>\n",
       "      <td>₹69,990</td>\n",
       "    </tr>\n",
       "    <tr>\n",
       "      <th>8</th>\n",
       "      <td>MSI Core i7 11th Gen - (16 GB/512 GB SSD/Windo...</td>\n",
       "      <td>4.3</td>\n",
       "      <td>₹69,990</td>\n",
       "    </tr>\n",
       "    <tr>\n",
       "      <th>9</th>\n",
       "      <td>MSI Core i7 12th Gen - (16 GB/512 GB SSD/Windo...</td>\n",
       "      <td>4.6</td>\n",
       "      <td>₹94,990</td>\n",
       "    </tr>\n",
       "  </tbody>\n",
       "</table>\n",
       "</div>"
      ],
      "text/plain": [
       "                                               Title Ratings      Price\n",
       "0  Lenovo IdeaPad Gaming 3 Intel Core i7 12th Gen...       4  ₹1,04,135\n",
       "1  Acer Predator Neo (2023) Core i7 13th Gen - (1...       5  ₹1,24,990\n",
       "2  MSI Core i7 12th Gen - (16 GB/1 TB SSD/Windows...       4  ₹1,65,990\n",
       "3  Acer Predator Neo (2023) Core i7 13th Gen - (1...     4.3  ₹1,49,990\n",
       "4  ASUS TUF Gaming F15 (2022) Core i7 12th Gen - ...     4.5    ₹93,990\n",
       "5  HP Pavilion Core i7 12th Gen - (16 GB/1 TB SSD...     4.3    ₹84,999\n",
       "6  MSI Core i7 11th Gen - (8 GB/512 GB SSD/Window...     4.3    ₹67,990\n",
       "7  MSI Core i7 13th Gen - (16 GB/512 GB SSD/Windo...       3    ₹69,990\n",
       "8  MSI Core i7 11th Gen - (16 GB/512 GB SSD/Windo...     4.3    ₹69,990\n",
       "9  MSI Core i7 12th Gen - (16 GB/512 GB SSD/Windo...     4.6    ₹94,990"
      ]
     },
     "execution_count": 29,
     "metadata": {},
     "output_type": "execute_result"
    }
   ],
   "source": [
    "df"
   ]
  },
  {
   "cell_type": "code",
   "execution_count": null,
   "id": "aa68cb5c",
   "metadata": {},
   "outputs": [],
   "source": []
  }
 ],
 "metadata": {
  "kernelspec": {
   "display_name": "Python 3 (ipykernel)",
   "language": "python",
   "name": "python3"
  },
  "language_info": {
   "codemirror_mode": {
    "name": "ipython",
    "version": 3
   },
   "file_extension": ".py",
   "mimetype": "text/x-python",
   "name": "python",
   "nbconvert_exporter": "python",
   "pygments_lexer": "ipython3",
   "version": "3.10.9"
  }
 },
 "nbformat": 4,
 "nbformat_minor": 5
}
