{
 "cells": [
  {
   "cell_type": "code",
   "execution_count": 2,
   "id": "e5e4c2f7",
   "metadata": {},
   "outputs": [],
   "source": [
    "from selenium import webdriver\n",
    "from selenium.webdriver.common.by import By\n",
    "import time\n",
    "\n"
   ]
  },
  {
   "cell_type": "code",
   "execution_count": 5,
   "id": "a41bf1a1",
   "metadata": {},
   "outputs": [
    {
     "name": "stderr",
     "output_type": "stream",
     "text": [
      "C:\\Users\\LENOVO\\AppData\\Local\\Temp\\ipykernel_20728\\2521108368.py:2: DeprecationWarning: executable_path has been deprecated, please pass in a Service object\n",
      "  driver = webdriver.Chrome(r\"C:\\Users\\LENOVO\\Anacoda_python\\chromedriver_win32\\chromedriver.exe\")\n"
     ]
    }
   ],
   "source": [
    "#les first connecct to the driver\n",
    "driver = webdriver.Chrome(r\"C:\\Users\\LENOVO\\Anacoda_python\\chromedriver_win32\\chromedriver.exe\")"
   ]
  },
  {
   "cell_type": "code",
   "execution_count": 6,
   "id": "5fee4ba5",
   "metadata": {},
   "outputs": [
    {
     "name": "stderr",
     "output_type": "stream",
     "text": [
      "C:\\Users\\LENOVO\\AppData\\Local\\Temp\\ipykernel_20728\\138732942.py:1: DeprecationWarning: executable_path has been deprecated, please pass in a Service object\n",
      "  driver= webdriver.Chrome(r'chromedriver.exe')\n"
     ]
    }
   ],
   "source": [
    "driver= webdriver.Chrome(r'chromedriver.exe')"
   ]
  },
  {
   "cell_type": "code",
   "execution_count": 7,
   "id": "8204d823",
   "metadata": {},
   "outputs": [],
   "source": [
    "driver.get('https://www.google.com/maps')\n"
   ]
  },
  {
   "cell_type": "code",
   "execution_count": 8,
   "id": "0071d6e1",
   "metadata": {},
   "outputs": [],
   "source": [
    "city_name = 'INDORE'\n",
    "search_bar = driver.find_element(By.ID, 'searchboxinput')\n",
    "search_bar.send_keys(city_name)\n"
   ]
  },
  {
   "cell_type": "code",
   "execution_count": 9,
   "id": "1d009250",
   "metadata": {},
   "outputs": [],
   "source": [
    "search_button = driver.find_element(By.ID, 'searchbox-searchbutton')\n",
    "search_button.click()\n"
   ]
  },
  {
   "cell_type": "code",
   "execution_count": 10,
   "id": "a5bf78a1",
   "metadata": {},
   "outputs": [],
   "source": [
    "time.sleep(2)\n"
   ]
  },
  {
   "cell_type": "code",
   "execution_count": 13,
   "id": "6cd04ad8",
   "metadata": {},
   "outputs": [
    {
     "name": "stdout",
     "output_type": "stream",
     "text": [
      "Enter the city name: iNDORE\n",
      "URL Extracted: https://www.google.com/maps/place/Indore,+Madhya+Pradesh/@22.7238883,75.6990297,11z/data=!3m1!4b1!4m6!3m5!1s0x3962fcad1b410ddb:0x96ec4da356240f4!8m2!3d22.7195687!4d75.8577258!16zL20vMDFfeXZ5?entry=ttu\n",
      "Latitude: 22.7238883\n",
      "Longitude: 75.6990297\n"
     ]
    }
   ],
   "source": [
    "import time\n",
    "import re\n",
    "from selenium import webdriver\n",
    "from selenium.webdriver.common.by import By\n",
    "\n",
    "# Start the Chrome driver\n",
    "driver = webdriver.Chrome()\n",
    "\n",
    "# Open Google Maps\n",
    "driver.get(\"https://www.google.com/maps\")\n",
    "\n",
    "# Wait for the page to load\n",
    "time.sleep(2)\n",
    "\n",
    "# Prompt the user to enter a city name\n",
    "city = input(\"Enter the city name: \")\n",
    "\n",
    "# Find the search bar and enter the city name\n",
    "search_bar = driver.find_element(By.XPATH, '//input[@id=\"searchboxinput\"]')\n",
    "search_bar.clear()\n",
    "search_bar.send_keys(city)\n",
    "\n",
    "# Submit the search query\n",
    "search_button = driver.find_element(By.XPATH, '//button[@id=\"searchbox-searchbutton\"]')\n",
    "search_button.click()\n",
    "\n",
    "# Wait for the search results to load\n",
    "time.sleep(2)\n",
    "\n",
    "# Extract the URL of the current page\n",
    "url_string = driver.current_url\n",
    "print(\"URL Extracted:\", url_string)\n",
    "\n",
    "# Extract the latitude and longitude from the URL\n",
    "lat_lng = re.findall(r'@(.*)data', url_string)\n",
    "if len(lat_lng) > 0:\n",
    "    lat_lng = lat_lng[0].split(\",\")\n",
    "    latitude = lat_lng[0]\n",
    "    longitude = lat_lng[1]\n",
    "\n",
    "    # Print the coordinates\n",
    "    print(\"Latitude:\", latitude.strip())\n",
    "    print(\"Longitude:\", longitude.strip())\n",
    "else:\n",
    "    print(\"Coordinates not found.\")\n",
    "\n",
    "# Close the driver\n",
    "driver.quit()\n"
   ]
  },
  {
   "cell_type": "code",
   "execution_count": 26,
   "id": "c42bfc64",
   "metadata": {},
   "outputs": [],
   "source": [
    "from selenium.webdriver.common.keys import Keys"
   ]
  },
  {
   "cell_type": "code",
   "execution_count": 67,
   "id": "a79bc8cf",
   "metadata": {
    "scrolled": true
   },
   "outputs": [
    {
     "name": "stderr",
     "output_type": "stream",
     "text": [
      "C:\\Users\\LENOVO\\AppData\\Local\\Temp\\ipykernel_20728\\2521108368.py:2: DeprecationWarning: executable_path has been deprecated, please pass in a Service object\n",
      "  driver = webdriver.Chrome(r\"C:\\Users\\LENOVO\\Anacoda_python\\chromedriver_win32\\chromedriver.exe\")\n"
     ]
    }
   ],
   "source": [
    "#les first connecct to the driver\n",
    "driver = webdriver.Chrome(r\"C:\\Users\\LENOVO\\Anacoda_python\\chromedriver_win32\\chromedriver.exe\")"
   ]
  },
  {
   "cell_type": "code",
   "execution_count": 68,
   "id": "35cc181c",
   "metadata": {
    "scrolled": true
   },
   "outputs": [
    {
     "name": "stderr",
     "output_type": "stream",
     "text": [
      "C:\\Users\\LENOVO\\AppData\\Local\\Temp\\ipykernel_20728\\138732942.py:1: DeprecationWarning: executable_path has been deprecated, please pass in a Service object\n",
      "  driver= webdriver.Chrome(r'chromedriver.exe')\n"
     ]
    }
   ],
   "source": [
    "driver= webdriver.Chrome(r'chromedriver.exe')"
   ]
  },
  {
   "cell_type": "code",
   "execution_count": 69,
   "id": "a07acd36",
   "metadata": {},
   "outputs": [],
   "source": [
    "driver.get('https://www.forbes.com/billionaires/')"
   ]
  },
  {
   "cell_type": "code",
   "execution_count": 63,
   "id": "b709dcce",
   "metadata": {},
   "outputs": [
    {
     "name": "stderr",
     "output_type": "stream",
     "text": [
      "C:\\Users\\LENOVO\\AppData\\Local\\Temp\\ipykernel_20728\\3775161458.py:6: DeprecationWarning: executable_path has been deprecated, please pass in a Service object\n",
      "  driver = webdriver.Chrome(r\"C:\\Users\\LENOVO\\Anacoda_python\\chromedriver_win32\\chromedriver.exe\")\n"
     ]
    }
   ],
   "source": [
    "from selenium import webdriver\n",
    "from selenium.webdriver.common.by import By\n",
    "\n",
    "\n",
    "\n",
    "\n",
    "\n",
    "# Find the table rows containing the billionaire details using XPATH\n",
    "rows = driver.find_elements(By.XPATH, '//div[@class=\"TableRow_rowContainer__IC1Tv\"]')\n",
    "\n",
    "# Loop through each row and extract the required details\n",
    "for row in rows:\n",
    "    rank = row.find_element(By.XPATH, '//div[@class=\"TableRow_rowContainer__IC1Tv\"]//div[@class=\"Table_rank___YBhk Table_dataCell__2QCve\"]')\n",
    "    name = row.find_element(By.XPATH, '//div[@class=\"TableRow_rowContainer__IC1Tv\"]//div[@class=\"Table_dataCell__2QCve\"]')\n",
    "    net_worth = row.find_element(By.XPATH, '//div[@class=\"TableRow_rowContainer__IC1Tv\"]//div[@class=\"Table_netWorth___L4R5 Table_dataCell__2QCve\"]')\n",
    "    age = row.find_element(By.XPATH, '//div[@class=\"TableRow_rowContainer__IC1Tv\"]//div[@class=\"Table_dataCell__2QCve\"]')\n",
    "    citizenship = row.find_element(By.XPATH, '//div[@class=\"TableRow_rowContainer__IC1Tv\"]//div[@class=\"TableRow_cell__db-hv Table_cell__houv9\"]')\n",
    "    source = row.find_element(By.XPATH, \"\")\n",
    "    industry = row.find_element(By.XPATH, \".//td[@class='category']\")\n",
    "    \n",
    "    # Print the extracted details\n",
    "    print(\"Rank:\", rank.text)\n",
    "    print(\"Name:\", name.text)\n",
    "    print(\"Net worth:\", net_worth.text)\n",
    "    print(\"Age:\", age.text)\n",
    "    print(\"Citizenship:\", citizenship.text)\n",
    "    print(\"Source:\", source.text)\n",
    "    print(\"Industry:\", industry.text)\n",
    "    print(\"----------------------------------------\")\n",
    "\n",
    "# Close the browser\n",
    "driver.quit()\n"
   ]
  },
  {
   "cell_type": "code",
   "execution_count": null,
   "id": "15173ae1",
   "metadata": {},
   "outputs": [],
   "source": []
  }
 ],
 "metadata": {
  "kernelspec": {
   "display_name": "Python 3 (ipykernel)",
   "language": "python",
   "name": "python3"
  },
  "language_info": {
   "codemirror_mode": {
    "name": "ipython",
    "version": 3
   },
   "file_extension": ".py",
   "mimetype": "text/x-python",
   "name": "python",
   "nbconvert_exporter": "python",
   "pygments_lexer": "ipython3",
   "version": "3.10.9"
  }
 },
 "nbformat": 4,
 "nbformat_minor": 5
}
