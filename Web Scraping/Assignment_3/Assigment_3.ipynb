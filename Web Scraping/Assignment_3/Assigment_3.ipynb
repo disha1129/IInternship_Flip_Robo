{
 "cells": [
  {
   "cell_type": "code",
   "execution_count": 1,
   "id": "3a55302f",
   "metadata": {},
   "outputs": [],
   "source": [
    "# Import all Libraries\n",
    "import pandas as pd\n",
    "import time\n",
    "from selenium import webdriver\n",
    "from selenium.webdriver.common.by import By\n",
    "from selenium.webdriver.common.keys import Keys\n",
    "from selenium.common.exceptions import NoSuchElementException\n",
    "\n",
    "from selenium.common.exceptions import StaleElementReferenceException, ElementClickInterceptedException\n",
    "from selenium.webdriver.common.by import By\n",
    "from selenium.webdriver.support.ui import WebDriverWait\n",
    "from selenium.webdriver.support import expected_conditions as EC\n"
   ]
  },
  {
   "cell_type": "code",
   "execution_count": 2,
   "id": "7d48781f",
   "metadata": {},
   "outputs": [
    {
     "name": "stderr",
     "output_type": "stream",
     "text": [
      "C:\\Users\\LENOVO\\AppData\\Local\\Temp\\ipykernel_15816\\3683214182.py:2: DeprecationWarning: executable_path has been deprecated, please pass in a Service object\n",
      "  driver = webdriver.Chrome(r'C:\\Users\\LENOVO\\Anacoda_python\\chromedriver_win32\\chromedriver.exe')\n"
     ]
    }
   ],
   "source": [
    "# Initialize and set up the 'driver' variable with the appropriate WebDriver\n",
    "driver = webdriver.Chrome(r'C:\\Users\\LENOVO\\Anacoda_python\\chromedriver_win32\\chromedriver.exe')"
   ]
  },
  {
   "cell_type": "code",
   "execution_count": 3,
   "id": "f7911fc9",
   "metadata": {},
   "outputs": [],
   "source": [
    "# Navigate to Amazon website\n",
    "driver.get('https://www.amazon.in/')"
   ]
  },
  {
   "cell_type": "code",
   "execution_count": null,
   "id": "5bcaba9e",
   "metadata": {},
   "outputs": [],
   "source": []
  },
  {
   "cell_type": "markdown",
   "id": "e15282ce",
   "metadata": {},
   "source": [
    "Ques-1 "
   ]
  },
  {
   "cell_type": "code",
   "execution_count": 4,
   "id": "281c76e1",
   "metadata": {
    "scrolled": false
   },
   "outputs": [
    {
     "name": "stdout",
     "output_type": "stream",
     "text": [
      "Enter Product Name:-  Guitar\n"
     ]
    }
   ],
   "source": [
    "# Take user input for the product to search\n",
    "product= input(\"Enter Product Name:-  \")"
   ]
  },
  {
   "cell_type": "code",
   "execution_count": 5,
   "id": "dcce5049",
   "metadata": {},
   "outputs": [],
   "source": [
    "search_box = driver.find_element(By.ID, 'twotabsearchtextbox')\n",
    "search_box.clear()\n",
    "search_box.send_keys(product)\n",
    "search_box.send_keys(Keys.RETURN)"
   ]
  },
  {
   "cell_type": "code",
   "execution_count": 6,
   "id": "8b8b7425",
   "metadata": {},
   "outputs": [],
   "source": [
    "# Wait for the page to load\n",
    "time.sleep(3)\n",
    "\n"
   ]
  },
  {
   "cell_type": "code",
   "execution_count": 7,
   "id": "324511d1",
   "metadata": {},
   "outputs": [],
   "source": [
    "# Find the search button and click it\n",
    "search_button = driver.find_element(By.ID, 'nav-search-submit-button')\n",
    "search_button.click()"
   ]
  },
  {
   "cell_type": "markdown",
   "id": "45420ef6",
   "metadata": {},
   "source": [
    "Ques-2"
   ]
  },
  {
   "cell_type": "code",
   "execution_count": 8,
   "id": "4e3d1e80",
   "metadata": {},
   "outputs": [],
   "source": [
    "import time\n",
    "from selenium.common.exceptions import StaleElementReferenceException, ElementClickInterceptedException\n",
    "from selenium.webdriver.common.by import By\n",
    "from selenium.webdriver.support.ui import WebDriverWait\n",
    "from selenium.webdriver.support import expected_conditions as EC\n",
    "\n",
    "product_urls = []\n",
    "start = 0\n",
    "end = 3\n",
    "\n",
    "for page in range(start, end):\n",
    "    try:\n",
    "        url_elements = driver.find_elements(By.XPATH, '//a[@class=\"a-link-normal s-underline-text s-underline-link-text s-link-style a-text-normal\"]')\n",
    "        \n",
    "        # Extract the URLs from the elements\n",
    "        for element in url_elements:\n",
    "            product_urls.append(element.get_attribute('href'))\n",
    "        \n",
    "        # Find the next button and click it\n",
    "        next_button = WebDriverWait(driver, 10).until(\n",
    "            EC.element_to_be_clickable((By.XPATH, '//a[@class=\"s-pagination-item s-pagination-next s-pagination-button s-pagination-separator\"]'))\n",
    "        )\n",
    "        next_button.click()\n",
    "        time.sleep(3)\n",
    "        \n",
    "    except (StaleElementReferenceException, ElementClickInterceptedException):\n",
    "        # If a StaleElementReferenceException or ElementClickInterceptedException occurs, wait for a moment and retry\n",
    "        time.sleep(2)\n"
   ]
  },
  {
   "cell_type": "code",
   "execution_count": 9,
   "id": "90f6aa93",
   "metadata": {},
   "outputs": [
    {
     "data": {
      "text/plain": [
       "167"
      ]
     },
     "execution_count": 9,
     "metadata": {},
     "output_type": "execute_result"
    }
   ],
   "source": [
    "len(product_urls)"
   ]
  },
  {
   "cell_type": "code",
   "execution_count": 10,
   "id": "3f58eb09",
   "metadata": {},
   "outputs": [],
   "source": [
    "Brand_Name=[]\n",
    "for url in product_urls:\n",
    "    driver.get(url)\n",
    "    time.sleep(2)\n",
    "    \n",
    "    try:\n",
    "        brand=driver.find_element(By.XPATH,'//div[@class=\"a-section a-spacing-small a-spacing-top-small\"]/table/tbody/tr[1]')\n",
    "        Brand_Name.append(brand.text)\n",
    "    except NoSuchElementException:\n",
    "            Brand_Name.append('-')"
   ]
  },
  {
   "cell_type": "code",
   "execution_count": 11,
   "id": "3feccdac",
   "metadata": {},
   "outputs": [
    {
     "data": {
      "text/plain": [
       "167"
      ]
     },
     "execution_count": 11,
     "metadata": {},
     "output_type": "execute_result"
    }
   ],
   "source": [
    "len(Brand_Name)"
   ]
  },
  {
   "cell_type": "code",
   "execution_count": 12,
   "id": "1d696b21",
   "metadata": {},
   "outputs": [],
   "source": [
    "Product_Details=[]\n",
    "for PD in product_urls:\n",
    "    driver.get(PD)\n",
    "    time.sleep(2)\n",
    "    \n",
    "    try:\n",
    "        product_detail=driver.find_element(By.XPATH,'//span[@class=\"a-size-large product-title-word-break\"]')\n",
    "        Product_Details.append(product_detail.text)\n",
    "    except NoSuchElementException:\n",
    "            Product_Details.append('-')"
   ]
  },
  {
   "cell_type": "code",
   "execution_count": 13,
   "id": "c13f5423",
   "metadata": {},
   "outputs": [
    {
     "data": {
      "text/plain": [
       "167"
      ]
     },
     "execution_count": 13,
     "metadata": {},
     "output_type": "execute_result"
    }
   ],
   "source": [
    "len(Product_Details)"
   ]
  },
  {
   "cell_type": "code",
   "execution_count": 14,
   "id": "969207ca",
   "metadata": {},
   "outputs": [],
   "source": [
    "Price=[]\n",
    "for price in product_urls:\n",
    "    driver.get(price)\n",
    "    time.sleep(2)\n",
    "    \n",
    "    try:\n",
    "        price_detail=driver.find_element(By.XPATH,'//span[@class=\"a-price-whole\"]')\n",
    "        Price.append(price_detail.text)\n",
    "    except NoSuchElementException:\n",
    "            Price.append('-')"
   ]
  },
  {
   "cell_type": "code",
   "execution_count": 16,
   "id": "d0a8e37f",
   "metadata": {},
   "outputs": [
    {
     "data": {
      "text/plain": [
       "167"
      ]
     },
     "execution_count": 16,
     "metadata": {},
     "output_type": "execute_result"
    }
   ],
   "source": [
    "len(Price)"
   ]
  },
  {
   "cell_type": "code",
   "execution_count": 15,
   "id": "908970a9",
   "metadata": {},
   "outputs": [],
   "source": [
    "Return_Exchange=[]\n",
    "for retu_exc in product_urls:\n",
    "    driver.get(retu_exc)\n",
    "    time.sleep(2)\n",
    "    \n",
    "    try:\n",
    "        return_exchange_details=driver.find_element(By.XPATH,'//li[@class=\"a-carousel-card tw-scroll-carousel-element\"][3]/div/span/div[2]')\n",
    "        Return_Exchange.append(return_exchange_details.text)\n",
    "    except NoSuchElementException:\n",
    "            Return_Exchange.append('-')"
   ]
  },
  {
   "cell_type": "code",
   "execution_count": 17,
   "id": "dfcf1e0f",
   "metadata": {},
   "outputs": [
    {
     "data": {
      "text/plain": [
       "167"
      ]
     },
     "execution_count": 17,
     "metadata": {},
     "output_type": "execute_result"
    }
   ],
   "source": [
    "len(Return_Exchange)"
   ]
  },
  {
   "cell_type": "code",
   "execution_count": 21,
   "id": "6704d4e8",
   "metadata": {},
   "outputs": [],
   "source": [
    "Expected_Delivery=[]\n",
    "for Expect_Delivery in product_urls:\n",
    "    driver.get(Expect_Delivery)\n",
    "    time.sleep(2)\n",
    "    \n",
    "    try:\n",
    "        Expect_Delivery_details=driver.find_element(By.XPATH,'//div[@id=\"mir-layout-DELIVERY_BLOCK-slot-PRIMARY_DELIVERY_MESSAGE_LARGE\"]/span/span')\n",
    "        Expected_Delivery.append(Expect_Delivery_details.text)\n",
    "    except NoSuchElementException:\n",
    "            Expected_Delivery.append('-')"
   ]
  },
  {
   "cell_type": "code",
   "execution_count": 22,
   "id": "648acd09",
   "metadata": {},
   "outputs": [
    {
     "data": {
      "text/plain": [
       "167"
      ]
     },
     "execution_count": 22,
     "metadata": {},
     "output_type": "execute_result"
    }
   ],
   "source": [
    "len(Expected_Delivery)"
   ]
  },
  {
   "cell_type": "code",
   "execution_count": 18,
   "id": "64767f00",
   "metadata": {},
   "outputs": [],
   "source": [
    "Availability=[]\n",
    "for available in product_urls:\n",
    "    driver.get(available)\n",
    "    time.sleep(2)\n",
    "    \n",
    "    try:\n",
    "        Availability_details=driver.find_element(By.XPATH,'//span[@class=\"a-size-medium a-color-success\"]')\n",
    "        Availability.append(Availability_details.text)\n",
    "    except NoSuchElementException:\n",
    "            Availability.append('-')"
   ]
  },
  {
   "cell_type": "code",
   "execution_count": 23,
   "id": "32feef18",
   "metadata": {},
   "outputs": [
    {
     "data": {
      "text/plain": [
       "167"
      ]
     },
     "execution_count": 23,
     "metadata": {},
     "output_type": "execute_result"
    }
   ],
   "source": [
    "len(Availability)"
   ]
  },
  {
   "cell_type": "code",
   "execution_count": 25,
   "id": "d82d359e",
   "metadata": {},
   "outputs": [],
   "source": [
    "\n",
    "# Create a DataFrame from the scraped data\n",
    "data = {\n",
    "    \"product_urls\":product_urls,\n",
    "    \"Brand_Name\": Brand_Name,\n",
    "    \"Product_Details\":Product_Details,\n",
    "    \"Price\": Price,\n",
    "    \"Return_Exchange\": Return_Exchange,\n",
    "    \"Expected_Delivery\":Expected_Delivery,\n",
    "    \"Availability\":Availability\n",
    "    \n",
    "    \n",
    "    \n",
    "}\n",
    "\n",
    "df = pd.DataFrame(data)\n",
    "\n",
    "# Save the DataFrame to a CSV file\n",
    "df.to_csv(\"amazon_products.csv\", index=False)\n",
    "\n",
    "# Close the browser\n",
    "driver.quit()\n"
   ]
  },
  {
   "cell_type": "code",
   "execution_count": 26,
   "id": "29562c78",
   "metadata": {},
   "outputs": [
    {
     "data": {
      "text/html": [
       "<div>\n",
       "<style scoped>\n",
       "    .dataframe tbody tr th:only-of-type {\n",
       "        vertical-align: middle;\n",
       "    }\n",
       "\n",
       "    .dataframe tbody tr th {\n",
       "        vertical-align: top;\n",
       "    }\n",
       "\n",
       "    .dataframe thead th {\n",
       "        text-align: right;\n",
       "    }\n",
       "</style>\n",
       "<table border=\"1\" class=\"dataframe\">\n",
       "  <thead>\n",
       "    <tr style=\"text-align: right;\">\n",
       "      <th></th>\n",
       "      <th>product_urls</th>\n",
       "      <th>Brand_Name</th>\n",
       "      <th>Product_Details</th>\n",
       "      <th>Price</th>\n",
       "      <th>Return_Exchange</th>\n",
       "      <th>Expected_Delivery</th>\n",
       "      <th>Availability</th>\n",
       "    </tr>\n",
       "  </thead>\n",
       "  <tbody>\n",
       "    <tr>\n",
       "      <th>0</th>\n",
       "      <td>https://www.amazon.in/sspa/click?ie=UTF8&amp;spc=M...</td>\n",
       "      <td>Brand Kadence</td>\n",
       "      <td>Kadence Frontier Jumbo Semi Acoustic Guitar Wi...</td>\n",
       "      <td>6,899</td>\n",
       "      <td>7 days Replacement</td>\n",
       "      <td>Friday, 23 June</td>\n",
       "      <td>In stock</td>\n",
       "    </tr>\n",
       "    <tr>\n",
       "      <th>1</th>\n",
       "      <td>https://www.amazon.in/sspa/click?ie=UTF8&amp;spc=M...</td>\n",
       "      <td>Brand Kadence</td>\n",
       "      <td>Kadence Frontier guitar with Online Guitar lea...</td>\n",
       "      <td>4,999</td>\n",
       "      <td>7 days Replacement</td>\n",
       "      <td>Wednesday, 21 June</td>\n",
       "      <td>In stock</td>\n",
       "    </tr>\n",
       "    <tr>\n",
       "      <th>2</th>\n",
       "      <td>https://www.amazon.in/sspa/click?ie=UTF8&amp;spc=M...</td>\n",
       "      <td>Brand VAULT</td>\n",
       "      <td>Vault DA40 41 Inch Premium Solid Spruce-Top Dr...</td>\n",
       "      <td>6,934</td>\n",
       "      <td>7 days Replacement</td>\n",
       "      <td>Thursday, 22 June</td>\n",
       "      <td>In stock</td>\n",
       "    </tr>\n",
       "    <tr>\n",
       "      <th>3</th>\n",
       "      <td>https://www.amazon.in/sspa/click?ie=UTF8&amp;spc=M...</td>\n",
       "      <td>Brand ESH Creations</td>\n",
       "      <td>ESH Creations E40CHEQ High Gloss Semi Acoustic...</td>\n",
       "      <td>5,899</td>\n",
       "      <td>7 days Replacement</td>\n",
       "      <td>Tuesday, 27 June</td>\n",
       "      <td>In stock</td>\n",
       "    </tr>\n",
       "    <tr>\n",
       "      <th>4</th>\n",
       "      <td>https://www.amazon.in/Juarez-Acoustic-Cutaway-...</td>\n",
       "      <td>Brand JUAREZ</td>\n",
       "      <td>Juârez Acoustic Guitar, 38 Inch Cutaway, 038C ...</td>\n",
       "      <td>1,994</td>\n",
       "      <td>7 days Replacement</td>\n",
       "      <td>Wednesday, 21 June</td>\n",
       "      <td>In stock</td>\n",
       "    </tr>\n",
       "    <tr>\n",
       "      <th>...</th>\n",
       "      <td>...</td>\n",
       "      <td>...</td>\n",
       "      <td>...</td>\n",
       "      <td>...</td>\n",
       "      <td>...</td>\n",
       "      <td>...</td>\n",
       "      <td>...</td>\n",
       "    </tr>\n",
       "    <tr>\n",
       "      <th>162</th>\n",
       "      <td>https://www.amazon.in/Yamaha-FSX80C-Acoustic-C...</td>\n",
       "      <td>Brand YAMAHA</td>\n",
       "      <td>Yamaha FSX80C Semi acoustic cutaway guitar (na...</td>\n",
       "      <td>12,669</td>\n",
       "      <td>7 days Replacement</td>\n",
       "      <td>Friday, 23 June</td>\n",
       "      <td>In stock</td>\n",
       "    </tr>\n",
       "    <tr>\n",
       "      <th>163</th>\n",
       "      <td>https://www.amazon.in/Fender-String-Cutaway-Ac...</td>\n",
       "      <td>Brand Fender</td>\n",
       "      <td>Fender Squier 39 Inch 6 String Cutaway Acousti...</td>\n",
       "      <td>7,400</td>\n",
       "      <td>7 days Replacement</td>\n",
       "      <td>Wednesday, 21 June</td>\n",
       "      <td>In stock</td>\n",
       "    </tr>\n",
       "    <tr>\n",
       "      <th>164</th>\n",
       "      <td>https://www.amazon.in/Fender-CD-60S-Dreadnough...</td>\n",
       "      <td>Brand Fender</td>\n",
       "      <td>Fender Acoustic Guitar Dreadnought Solid CD60S...</td>\n",
       "      <td>17,500</td>\n",
       "      <td>7 days Replacement</td>\n",
       "      <td>Wednesday, 21 June</td>\n",
       "      <td>In stock</td>\n",
       "    </tr>\n",
       "    <tr>\n",
       "      <th>165</th>\n",
       "      <td>https://www.amazon.in/Juarez-JRZ-ST01-6-String...</td>\n",
       "      <td>Brand JUAREZ</td>\n",
       "      <td>Juarez JRZ-ST02 6-String 38 Inches Wood Electr...</td>\n",
       "      <td>5,737</td>\n",
       "      <td>7 days Replacement</td>\n",
       "      <td>Wednesday, 21 June</td>\n",
       "      <td>In stock</td>\n",
       "    </tr>\n",
       "    <tr>\n",
       "      <th>166</th>\n",
       "      <td>https://www.amazon.in/Kadence-Frontier-Acousti...</td>\n",
       "      <td>Brand Kadence</td>\n",
       "      <td>Kadence Guitar Frontier Series, Blue Acoustic ...</td>\n",
       "      <td>4,999</td>\n",
       "      <td>7 days Replacement</td>\n",
       "      <td>Friday, 23 June</td>\n",
       "      <td>In stock</td>\n",
       "    </tr>\n",
       "  </tbody>\n",
       "</table>\n",
       "<p>167 rows × 7 columns</p>\n",
       "</div>"
      ],
      "text/plain": [
       "                                          product_urls           Brand_Name  \\\n",
       "0    https://www.amazon.in/sspa/click?ie=UTF8&spc=M...        Brand Kadence   \n",
       "1    https://www.amazon.in/sspa/click?ie=UTF8&spc=M...        Brand Kadence   \n",
       "2    https://www.amazon.in/sspa/click?ie=UTF8&spc=M...          Brand VAULT   \n",
       "3    https://www.amazon.in/sspa/click?ie=UTF8&spc=M...  Brand ESH Creations   \n",
       "4    https://www.amazon.in/Juarez-Acoustic-Cutaway-...         Brand JUAREZ   \n",
       "..                                                 ...                  ...   \n",
       "162  https://www.amazon.in/Yamaha-FSX80C-Acoustic-C...         Brand YAMAHA   \n",
       "163  https://www.amazon.in/Fender-String-Cutaway-Ac...         Brand Fender   \n",
       "164  https://www.amazon.in/Fender-CD-60S-Dreadnough...         Brand Fender   \n",
       "165  https://www.amazon.in/Juarez-JRZ-ST01-6-String...         Brand JUAREZ   \n",
       "166  https://www.amazon.in/Kadence-Frontier-Acousti...        Brand Kadence   \n",
       "\n",
       "                                       Product_Details   Price  \\\n",
       "0    Kadence Frontier Jumbo Semi Acoustic Guitar Wi...   6,899   \n",
       "1    Kadence Frontier guitar with Online Guitar lea...   4,999   \n",
       "2    Vault DA40 41 Inch Premium Solid Spruce-Top Dr...   6,934   \n",
       "3    ESH Creations E40CHEQ High Gloss Semi Acoustic...   5,899   \n",
       "4    Juârez Acoustic Guitar, 38 Inch Cutaway, 038C ...   1,994   \n",
       "..                                                 ...     ...   \n",
       "162  Yamaha FSX80C Semi acoustic cutaway guitar (na...  12,669   \n",
       "163  Fender Squier 39 Inch 6 String Cutaway Acousti...   7,400   \n",
       "164  Fender Acoustic Guitar Dreadnought Solid CD60S...  17,500   \n",
       "165  Juarez JRZ-ST02 6-String 38 Inches Wood Electr...   5,737   \n",
       "166  Kadence Guitar Frontier Series, Blue Acoustic ...   4,999   \n",
       "\n",
       "        Return_Exchange   Expected_Delivery Availability  \n",
       "0    7 days Replacement     Friday, 23 June     In stock  \n",
       "1    7 days Replacement  Wednesday, 21 June     In stock  \n",
       "2    7 days Replacement   Thursday, 22 June     In stock  \n",
       "3    7 days Replacement    Tuesday, 27 June     In stock  \n",
       "4    7 days Replacement  Wednesday, 21 June     In stock  \n",
       "..                  ...                 ...          ...  \n",
       "162  7 days Replacement     Friday, 23 June     In stock  \n",
       "163  7 days Replacement  Wednesday, 21 June     In stock  \n",
       "164  7 days Replacement  Wednesday, 21 June     In stock  \n",
       "165  7 days Replacement  Wednesday, 21 June     In stock  \n",
       "166  7 days Replacement     Friday, 23 June     In stock  \n",
       "\n",
       "[167 rows x 7 columns]"
      ]
     },
     "execution_count": 26,
     "metadata": {},
     "output_type": "execute_result"
    }
   ],
   "source": [
    "df"
   ]
  },
  {
   "cell_type": "markdown",
   "id": "37b1ca0b",
   "metadata": {},
   "source": [
    "Ques-3"
   ]
  },
  {
   "cell_type": "code",
   "execution_count": null,
   "id": "7cfb587c",
   "metadata": {},
   "outputs": [],
   "source": []
  },
  {
   "cell_type": "code",
   "execution_count": 7,
   "id": "1c5d2ba8",
   "metadata": {},
   "outputs": [],
   "source": [
    "from selenium.common.exceptions import NoSuchElementException\n",
    "from selenium.webdriver.common.action_chains import ActionChains\n",
    "import requests"
   ]
  },
  {
   "cell_type": "code",
   "execution_count": 8,
   "id": "fb0d331d",
   "metadata": {},
   "outputs": [
    {
     "name": "stderr",
     "output_type": "stream",
     "text": [
      "C:\\Users\\LENOVO\\AppData\\Local\\Temp\\ipykernel_2312\\2094880561.py:2: DeprecationWarning: executable_path has been deprecated, please pass in a Service object\n",
      "  driver = webdriver.Chrome(r'C:\\Users\\LENOVO\\Anacoda_python\\chromedriver_win32')\n"
     ]
    }
   ],
   "source": [
    "# Initialize and set up the 'driver' variable with the appropriate WebDriver\n",
    "driver = webdriver.Chrome(r'C:\\Users\\LENOVO\\Anacoda_python\\chromedriver_win32')"
   ]
  },
  {
   "cell_type": "code",
   "execution_count": 9,
   "id": "c4805436",
   "metadata": {},
   "outputs": [],
   "source": [
    "# Access images.google.com\n",
    "driver = webdriver.Chrome()\n",
    "driver.get(\"https://images.google.com\")\n",
    "time.sleep(2)\n"
   ]
  },
  {
   "cell_type": "code",
   "execution_count": 10,
   "id": "7ba850ca",
   "metadata": {},
   "outputs": [],
   "source": [
    "# Scrape images for the given keywords\n",
    "keywords = ['fruits', 'cars', 'Machine Learning', 'Guitar', 'Cakes']\n",
    "num_images_per_keyword = 10"
   ]
  },
  {
   "cell_type": "code",
   "execution_count": 12,
   "id": "6e7e42c2",
   "metadata": {},
   "outputs": [
    {
     "name": "stdout",
     "output_type": "stream",
     "text": [
      "Downloading 1 of 10 images for 'fruits'\n",
      "Downloading 2 of 10 images for 'fruits'\n",
      "Downloading 3 of 10 images for 'fruits'\n",
      "Downloading 4 of 10 images for 'fruits'\n",
      "Downloading 5 of 10 images for 'fruits'\n",
      "Downloading 6 of 10 images for 'fruits'\n",
      "Downloading 7 of 10 images for 'fruits'\n",
      "Downloading 8 of 10 images for 'fruits'\n",
      "Downloading 9 of 10 images for 'fruits'\n",
      "Downloading 10 of 10 images for 'fruits'\n",
      "\n",
      "Downloading 1 of 10 images for 'cars'\n",
      "Downloading 2 of 10 images for 'cars'\n",
      "Downloading 3 of 10 images for 'cars'\n",
      "Downloading 4 of 10 images for 'cars'\n",
      "Downloading 5 of 10 images for 'cars'\n",
      "Downloading 6 of 10 images for 'cars'\n",
      "Downloading 7 of 10 images for 'cars'\n",
      "Downloading 8 of 10 images for 'cars'\n",
      "Downloading 9 of 10 images for 'cars'\n",
      "Downloading 10 of 10 images for 'cars'\n",
      "\n",
      "\n",
      "Downloading 1 of 10 images for 'Guitar'\n",
      "Downloading 2 of 10 images for 'Guitar'\n",
      "Downloading 3 of 10 images for 'Guitar'\n",
      "Downloading 4 of 10 images for 'Guitar'\n",
      "Downloading 5 of 10 images for 'Guitar'\n",
      "Downloading 6 of 10 images for 'Guitar'\n",
      "Downloading 7 of 10 images for 'Guitar'\n",
      "Downloading 8 of 10 images for 'Guitar'\n",
      "Downloading 9 of 10 images for 'Guitar'\n",
      "Downloading 10 of 10 images for 'Guitar'\n",
      "\n",
      "Downloading 1 of 10 images for 'Cakes'\n",
      "Downloading 2 of 10 images for 'Cakes'\n",
      "Downloading 3 of 10 images for 'Cakes'\n",
      "Downloading 4 of 10 images for 'Cakes'\n",
      "Downloading 5 of 10 images for 'Cakes'\n",
      "Downloading 6 of 10 images for 'Cakes'\n",
      "Downloading 7 of 10 images for 'Cakes'\n",
      "Downloading 8 of 10 images for 'Cakes'\n",
      "Downloading 9 of 10 images for 'Cakes'\n",
      "Downloading 10 of 10 images for 'Cakes'\n",
      "\n"
     ]
    }
   ],
   "source": [
    "from selenium import webdriver\n",
    "from selenium.webdriver.common.by import By\n",
    "import time\n",
    "import requests\n",
    "\n",
    "\n",
    "# Define the keywords\n",
    "keywords = ['fruits', 'cars', 'Machine Learning', 'Guitar', 'Cakes']\n",
    "\n",
    "# Loop through the keywords\n",
    "for keyword in keywords:\n",
    "    # Locate the search bar element and enter the keyword\n",
    "    search_bar = driver.find_element(By.XPATH,'//input[@class=\"og3lId\"]')\n",
    "    search_bar.clear()\n",
    "    search_bar.send_keys(keyword)\n",
    "    search_bar.submit()\n",
    "\n",
    "    # Wait for the search results to load\n",
    "    time.sleep(2)\n",
    "\n",
    "    # Scroll down to load more images\n",
    "    for _ in range(20):  # Scroll 20 times to load more images\n",
    "        driver.execute_script(\"window.scrollBy(0, 1000)\")\n",
    "        time.sleep(1)\n",
    "\n",
    "    # Find all the image elements\n",
    "    images = driver.find_elements(By.XPATH, '//img[@class=\"rg_i Q4LuWd\"]')\n",
    "\n",
    "    img_urls = []\n",
    "\n",
    "    for image in images:\n",
    "        source = image.get_attribute('src')\n",
    "        if source is not None and source[0:4] == 'http':\n",
    "            img_urls.append(source)\n",
    "\n",
    "    # Download the first 10 images for the keyword\n",
    "    for i in range(min(10, len(img_urls))):\n",
    "        print(\"Downloading {0} of {1} images for '{2}'\".format(i+1, min(10, len(img_urls)), keyword))\n",
    "        response = requests.get(img_urls[i])\n",
    "        with open(f\"{keyword}_{i+1}.jpg\", \"wb\") as file:\n",
    "            file.write(response.content)\n",
    "\n",
    "    print()\n",
    "\n",
    "# Close the browser\n",
    "driver.quit()\n"
   ]
  },
  {
   "cell_type": "markdown",
   "id": "41ea449a",
   "metadata": {},
   "source": [
    "Ques-4"
   ]
  },
  {
   "cell_type": "code",
   "execution_count": 13,
   "id": "afa8c2a3",
   "metadata": {},
   "outputs": [
    {
     "name": "stderr",
     "output_type": "stream",
     "text": [
      "C:\\Users\\LENOVO\\AppData\\Local\\Temp\\ipykernel_2312\\3683214182.py:2: DeprecationWarning: executable_path has been deprecated, please pass in a Service object\n",
      "  driver = webdriver.Chrome(r'C:\\Users\\LENOVO\\Anacoda_python\\chromedriver_win32\\chromedriver.exe')\n"
     ]
    }
   ],
   "source": [
    "# Initialize and set up the 'driver' variable with the appropriate WebDriver\n",
    "driver = webdriver.Chrome(r'C:\\Users\\LENOVO\\Anacoda_python\\chromedriver_win32\\chromedriver.exe')"
   ]
  },
  {
   "cell_type": "code",
   "execution_count": 14,
   "id": "88855057",
   "metadata": {},
   "outputs": [],
   "source": [
    "# Navigate to Amazon website\n",
    "driver.get('https://www.flipkart.com/')"
   ]
  },
  {
   "cell_type": "code",
   "execution_count": 21,
   "id": "3d0e26b9",
   "metadata": {},
   "outputs": [
    {
     "name": "stdout",
     "output_type": "stream",
     "text": [
      "Enter Product Name:-  Oneplus Nord\n"
     ]
    }
   ],
   "source": [
    "# Take user input for the product to search\n",
    "product= input(\"Enter Product Name:-  \")"
   ]
  },
  {
   "cell_type": "code",
   "execution_count": 22,
   "id": "71fe89e1",
   "metadata": {},
   "outputs": [],
   "source": [
    "search_box = driver.find_element(By.XPATH,'//input[@class=\"_3704LK\"]' )\n",
    "search_box.clear()\n",
    "search_box.send_keys(product)\n",
    "search_box.send_keys(Keys.RETURN)"
   ]
  },
  {
   "cell_type": "code",
   "execution_count": 23,
   "id": "a8d4d36e",
   "metadata": {},
   "outputs": [],
   "source": [
    "# Wait for the page to load\n",
    "time.sleep(3)\n",
    "\n"
   ]
  },
  {
   "cell_type": "code",
   "execution_count": 30,
   "id": "011c948f",
   "metadata": {},
   "outputs": [],
   "source": [
    "try:\n",
    "        # Find the cancel button and click it if present\n",
    "        cancel_button = driver.find_element(By.XPATH, '//button[@class=\"_2KpZ6l _2doB4z\"]')\n",
    "        cancel_button.click()\n",
    "        time.sleep(1)\n",
    "except NoSuchElementException:\n",
    "    pass"
   ]
  },
  {
   "cell_type": "code",
   "execution_count": 25,
   "id": "e082afab",
   "metadata": {},
   "outputs": [],
   "source": [
    "# Find the search button and click it\n",
    "search_button = driver.find_element(By.XPATH, '//button[@class=\"L0Z3Pu\"]')\n",
    "search_button.click()"
   ]
  },
  {
   "cell_type": "code",
   "execution_count": 26,
   "id": "38a17738",
   "metadata": {},
   "outputs": [],
   "source": [
    "import time\n",
    "from selenium.common.exceptions import StaleElementReferenceException, ElementClickInterceptedException\n",
    "from selenium.webdriver.common.by import By\n",
    "from selenium.webdriver.support.ui import WebDriverWait\n",
    "from selenium.webdriver.support import expected_conditions as EC\n",
    "\n",
    "product_urls = []\n",
    "start = 0\n",
    "end = 3\n",
    "\n",
    "for page in range(start, end):\n",
    "    try:\n",
    "        url_elements = driver.find_elements(By.XPATH, '//a[@class=\"_1fQZEK\"]')\n",
    "        \n",
    "        # Extract the URLs from the elements\n",
    "        for element in url_elements:\n",
    "            product_urls.append(element.get_attribute('href'))\n",
    "        \n",
    "        # Find the next button and click it\n",
    "        next_button = WebDriverWait(driver, 10).until(\n",
    "            EC.element_to_be_clickable((By.XPATH, '//a[@class=\"_1LKTO3\"]'))\n",
    "        )\n",
    "        next_button.click()\n",
    "        time.sleep(3)\n",
    "        \n",
    "    except (StaleElementReferenceException, ElementClickInterceptedException):\n",
    "        # If a StaleElementReferenceException or ElementClickInterceptedException occurs, wait for a moment and retry\n",
    "        time.sleep(2)\n"
   ]
  },
  {
   "cell_type": "code",
   "execution_count": 27,
   "id": "cf036c5f",
   "metadata": {},
   "outputs": [
    {
     "data": {
      "text/plain": [
       "72"
      ]
     },
     "execution_count": 27,
     "metadata": {},
     "output_type": "execute_result"
    }
   ],
   "source": [
    "len(product_urls)"
   ]
  },
  {
   "cell_type": "code",
   "execution_count": 31,
   "id": "2f597d09",
   "metadata": {},
   "outputs": [],
   "source": [
    "Brand_Name1=[]\n",
    "for url in product_urls:\n",
    "    driver.get(url)\n",
    "    time.sleep(2)\n",
    "    \n",
    "    try:\n",
    "        brand=driver.find_element(By.XPATH,'//span[@class=\"B_NuCI\"]')\n",
    "        Brand_Name1.append(brand.text)\n",
    "    except NoSuchElementException:\n",
    "            Brand_Name1.append('-')"
   ]
  },
  {
   "cell_type": "code",
   "execution_count": 32,
   "id": "07fb5842",
   "metadata": {},
   "outputs": [
    {
     "data": {
      "text/plain": [
       "72"
      ]
     },
     "execution_count": 32,
     "metadata": {},
     "output_type": "execute_result"
    }
   ],
   "source": [
    "len(Brand_Name1)"
   ]
  },
  {
   "cell_type": "code",
   "execution_count": 33,
   "id": "48132eab",
   "metadata": {},
   "outputs": [],
   "source": [
    "smart_phone=[]\n",
    "for SP in product_urls:\n",
    "    driver.get(SP)\n",
    "    time.sleep(2)\n",
    "    \n",
    "    try:\n",
    "        SP_detail=driver.find_element(By.XPATH,'//div[@class=\"_3k-BhJ\"]/table/tbody[1]/tr[5]/td[2]')\n",
    "        smart_phone.append(SP_detail.text)\n",
    "    except NoSuchElementException:\n",
    "            smart_phone.append('-')"
   ]
  },
  {
   "cell_type": "code",
   "execution_count": 34,
   "id": "a0aeb15b",
   "metadata": {},
   "outputs": [
    {
     "data": {
      "text/plain": [
       "72"
      ]
     },
     "execution_count": 34,
     "metadata": {},
     "output_type": "execute_result"
    }
   ],
   "source": [
    "len(smart_phone)"
   ]
  },
  {
   "cell_type": "code",
   "execution_count": 35,
   "id": "7242287b",
   "metadata": {},
   "outputs": [],
   "source": [
    "Colour=[]\n",
    "for CD in product_urls:\n",
    "    driver.get(CD)\n",
    "    time.sleep(2)\n",
    "    \n",
    "    try:\n",
    "        CD_detail=driver.find_element(By.XPATH,'//div[@class=\"_3k-BhJ\"]/table/tbody[1]/tr[4]/td[2]')\n",
    "        Colour.append(CD_detail.text)\n",
    "    except NoSuchElementException:\n",
    "            Colour.append('-')"
   ]
  },
  {
   "cell_type": "code",
   "execution_count": 36,
   "id": "52fbf69a",
   "metadata": {},
   "outputs": [],
   "source": [
    "RAM_Details=[]\n",
    "for R in product_urls:\n",
    "    driver.get(R)\n",
    "    time.sleep(2)\n",
    "    \n",
    "    try:\n",
    "        Ram_detail=driver.find_element(By.XPATH,'//div[@class=\"_3k-BhJ\"]/table/tbody[4]/tr[2]/td[2]')\n",
    "        RAM_Details.append(product_detail.text)\n",
    "    except NoSuchElementException:\n",
    "            RAM_Details.append('-')"
   ]
  },
  {
   "cell_type": "code",
   "execution_count": 37,
   "id": "39d00da9",
   "metadata": {},
   "outputs": [],
   "source": [
    "ROM_Details=[]\n",
    "for RO in product_urls:\n",
    "    driver.get(RO)\n",
    "    time.sleep(2)\n",
    "    \n",
    "    try:\n",
    "        ROM_detail=driver.find_element(By.XPATH,'//div[@class=\"_3k-BhJ\"]/table/tbody[4]/tr[1]/td[2]')\n",
    "        ROM_Details.append(ROM_detail.text)\n",
    "    except NoSuchElementException:\n",
    "            ROM_Details.append('-')"
   ]
  },
  {
   "cell_type": "code",
   "execution_count": 39,
   "id": "8a8854ee",
   "metadata": {},
   "outputs": [],
   "source": [
    "Primary_Camera=[]\n",
    "for PC in product_urls:\n",
    "    driver.get(PC)\n",
    "    time.sleep(2)\n",
    "    \n",
    "    try:\n",
    "        Primary_Camera_detail=driver.find_element(By.XPATH,'//div[@class=\"_3k-BhJ\"]/table/tbody[5]/tr[2]/td[2]')\n",
    "        Primary_Camera.append(Primary_Camera_detail.text)\n",
    "    except NoSuchElementException:\n",
    "            Primary_Camera.append('-')"
   ]
  },
  {
   "cell_type": "code",
   "execution_count": 40,
   "id": "3dbfb90d",
   "metadata": {},
   "outputs": [],
   "source": [
    "Secondary_Camera=[]\n",
    "for SC in product_urls:\n",
    "    driver.get(SC)\n",
    "    time.sleep(2)\n",
    "    \n",
    "    try:\n",
    "        Secondary_Camera_detail=driver.find_element(By.XPATH,'//div[@class=\"_3k-BhJ\"]/table/tbody[5]/tr[6]/td[2]')\n",
    "        Secondary_Camera.append(Secondary_Camera_detail.text)\n",
    "    except NoSuchElementException:\n",
    "            Secondary_Camera.append('-')"
   ]
  },
  {
   "cell_type": "code",
   "execution_count": 41,
   "id": "058d6636",
   "metadata": {},
   "outputs": [],
   "source": [
    "Display_Size=[]\n",
    "for DS in product_urls:\n",
    "    driver.get(DS)\n",
    "    time.sleep(2)\n",
    "    \n",
    "    try:\n",
    "        Display_Size_detail=driver.find_element(By.XPATH,'//div[@class=\"_3k-BhJ\"]/table/tbody[10]/tr[1]/td[2]')\n",
    "        Display_Size.append(Display_Size_detail_detail.text)\n",
    "    except NoSuchElementException:\n",
    "             Display_Size.append('-')"
   ]
  },
  {
   "cell_type": "code",
   "execution_count": 42,
   "id": "d3eaf975",
   "metadata": {},
   "outputs": [],
   "source": [
    "Battery_Capacity=[]\n",
    "for BC in product_urls:\n",
    "    driver.get(BC)\n",
    "    time.sleep(2)\n",
    "    \n",
    "    try:\n",
    "        Battery_Capacity_detail=driver.find_element(By.XPATH,'//div[@class=\"_3k-BhJ\"]/table/tbody[10]/tr[1]/td[2]')\n",
    "        Battery_Capacity.append(Battery_Capacity_detail.text)\n",
    "    except NoSuchElementException:\n",
    "            Battery_Capacity.append('-')"
   ]
  },
  {
   "cell_type": "code",
   "execution_count": 43,
   "id": "0928f056",
   "metadata": {},
   "outputs": [],
   "source": [
    "Prices=[]\n",
    "for P in product_urls:\n",
    "    driver.get(P)\n",
    "    time.sleep(2)\n",
    "    \n",
    "    try:\n",
    "        pri=driver.find_element(By.XPATH,'//div[@class=\"_30jeq3 _16Jk6d\"]')\n",
    "        Prices.append(pri.text)\n",
    "    except NoSuchElementException:\n",
    "            Prices.append('-')"
   ]
  },
  {
   "cell_type": "code",
   "execution_count": 44,
   "id": "73983af4",
   "metadata": {},
   "outputs": [],
   "source": [
    "\n",
    "# Create a DataFrame from the scraped data\n",
    "Mobile = {\n",
    "    \"product_urls\":product_urls,\n",
    "    \"Brand_Name\": Brand_Name1,\n",
    "    \"smart_phone\":smart_phone,\n",
    "    \"Colour\": Colour,\n",
    "    \"RAM\": RAM_Details,\n",
    "    \"ROM\":ROM_Details,\n",
    "    \"Primary_Camera\":Primary_Camera,\n",
    "    \"Secondary_Camera\":Secondary_Camera,\n",
    "    \"Display_Size\":Display_Size,\n",
    "    \"Battery_Capacity\":Battery_Capacity,\n",
    "    \"Prices\":Prices\n",
    "    \n",
    "    \n",
    "    \n",
    "    \n",
    "}\n",
    "\n",
    "df1 = pd.DataFrame(Mobile)\n",
    "\n",
    "# Save the DataFrame to a CSV file\n",
    "df1.to_csv(\"amazon_products.csv\", index=False)\n",
    "\n",
    "# Close the browser\n",
    "driver.quit()"
   ]
  },
  {
   "cell_type": "markdown",
   "id": "19bc5171",
   "metadata": {},
   "source": [
    "Ques-5"
   ]
  },
  {
   "cell_type": "code",
   "execution_count": 47,
   "id": "95de0eca",
   "metadata": {},
   "outputs": [
    {
     "name": "stdout",
     "output_type": "stream",
     "text": [
      "Enter the city name: Indore\n",
      "URL Extracted: https://www.google.com/maps/place/Indore,+Madhya+Pradesh/@22.7238883,75.6990297,11z/data=!3m1!4b1!4m6!3m5!1s0x3962fcad1b410ddb:0x96ec4da356240f4!8m2!3d22.7195687!4d75.8577258!16zL20vMDFfeXZ5?entry=ttu\n",
      "Latitude: 22.7238883\n",
      "Longitude: 75.6990297\n"
     ]
    }
   ],
   "source": [
    "import time\n",
    "import re\n",
    "from selenium import webdriver\n",
    "from selenium.webdriver.common.by import By\n",
    "\n",
    "# Start the Chrome driver\n",
    "driver = webdriver.Chrome()\n",
    "\n",
    "# Open Google Maps\n",
    "driver.get(\"https://www.google.com/maps\")\n",
    "\n",
    "# Wait for the page to load\n",
    "time.sleep(2)\n",
    "\n",
    "# Prompt the user to enter a city name\n",
    "city = input(\"Enter the city name: \")\n",
    "\n",
    "# Find the search bar and enter the city name\n",
    "search_bar = driver.find_element(By.XPATH, '//input[@id=\"searchboxinput\"]')\n",
    "search_bar.clear()\n",
    "search_bar.send_keys(city)\n",
    "\n",
    "# Submit the search query\n",
    "search_button = driver.find_element(By.XPATH, '//button[@id=\"searchbox-searchbutton\"]')\n",
    "search_button.click()\n",
    "\n",
    "# Wait for the search results to load\n",
    "time.sleep(2)\n",
    "\n",
    "# Extract the URL of the current page\n",
    "url_string = driver.current_url\n",
    "print(\"URL Extracted:\", url_string)\n",
    "\n",
    "# Extract the latitude and longitude from the URL\n",
    "lat_lng = re.findall(r'@(.*)data', url_string)\n",
    "if len(lat_lng) > 0:\n",
    "    lat_lng = lat_lng[0].split(\",\")\n",
    "    latitude = lat_lng[0]\n",
    "    longitude = lat_lng[1]\n",
    "\n",
    "    # Print the coordinates\n",
    "    print(\"Latitude:\", latitude.strip())\n",
    "    print(\"Longitude:\", longitude.strip())\n",
    "else:\n",
    "    print(\"Coordinates not found.\")\n",
    "\n",
    "# Close the driver\n",
    "driver.quit()\n"
   ]
  },
  {
   "cell_type": "code",
   "execution_count": 65,
   "id": "7e066031",
   "metadata": {},
   "outputs": [
    {
     "name": "stderr",
     "output_type": "stream",
     "text": [
      "C:\\Users\\LENOVO\\AppData\\Local\\Temp\\ipykernel_2312\\2521108368.py:2: DeprecationWarning: executable_path has been deprecated, please pass in a Service object\n",
      "  driver = webdriver.Chrome(r\"C:\\Users\\LENOVO\\Anacoda_python\\chromedriver_win32\\chromedriver.exe\")\n"
     ]
    }
   ],
   "source": [
    "#les first connecct to the driver\n",
    "driver = webdriver.Chrome(r\"C:\\Users\\LENOVO\\Anacoda_python\\chromedriver_win32\\chromedriver.exe\")"
   ]
  },
  {
   "cell_type": "code",
   "execution_count": 66,
   "id": "4d285239",
   "metadata": {},
   "outputs": [
    {
     "name": "stderr",
     "output_type": "stream",
     "text": [
      "C:\\Users\\LENOVO\\AppData\\Local\\Temp\\ipykernel_2312\\138732942.py:1: DeprecationWarning: executable_path has been deprecated, please pass in a Service object\n",
      "  driver= webdriver.Chrome(r'chromedriver.exe')\n"
     ]
    }
   ],
   "source": [
    "driver= webdriver.Chrome(r'chromedriver.exe')"
   ]
  },
  {
   "cell_type": "code",
   "execution_count": 67,
   "id": "8cc6d9bf",
   "metadata": {},
   "outputs": [],
   "source": [
    "driver.get('https://www.forbes.com/billionaires/')"
   ]
  },
  {
   "cell_type": "code",
   "execution_count": 68,
   "id": "768fbc27",
   "metadata": {},
   "outputs": [
    {
     "name": "stdout",
     "output_type": "stream",
     "text": [
      "Rank: 1\n",
      "Name: Bernard Arnault & family\n",
      "Net worth: $211 B\n",
      "Age: Bernard Arnault & family\n",
      "Citizenship: 1\n",
      "Source: Bernard Arnault & family\n",
      "----------------------------------------\n",
      "Rank: 1\n",
      "Name: Bernard Arnault & family\n",
      "Net worth: $211 B\n",
      "Age: Bernard Arnault & family\n",
      "Citizenship: 1\n",
      "Source: Bernard Arnault & family\n",
      "----------------------------------------\n",
      "Rank: 1\n",
      "Name: Bernard Arnault & family\n",
      "Net worth: $211 B\n",
      "Age: Bernard Arnault & family\n",
      "Citizenship: 1\n",
      "Source: Bernard Arnault & family\n",
      "----------------------------------------\n",
      "Rank: 1\n",
      "Name: Bernard Arnault & family\n",
      "Net worth: $211 B\n",
      "Age: Bernard Arnault & family\n",
      "Citizenship: 1\n",
      "Source: Bernard Arnault & family\n",
      "----------------------------------------\n",
      "Rank: 1\n",
      "Name: Bernard Arnault & family\n",
      "Net worth: $211 B\n",
      "Age: Bernard Arnault & family\n",
      "Citizenship: 1\n",
      "Source: Bernard Arnault & family\n",
      "----------------------------------------\n",
      "Rank: 1\n",
      "Name: Bernard Arnault & family\n",
      "Net worth: $211 B\n",
      "Age: Bernard Arnault & family\n",
      "Citizenship: 1\n",
      "Source: Bernard Arnault & family\n",
      "----------------------------------------\n",
      "Rank: 1\n",
      "Name: Bernard Arnault & family\n",
      "Net worth: $211 B\n",
      "Age: Bernard Arnault & family\n",
      "Citizenship: 1\n",
      "Source: Bernard Arnault & family\n",
      "----------------------------------------\n",
      "Rank: 1\n",
      "Name: Bernard Arnault & family\n",
      "Net worth: $211 B\n",
      "Age: Bernard Arnault & family\n",
      "Citizenship: 1\n",
      "Source: Bernard Arnault & family\n",
      "----------------------------------------\n",
      "Rank: 1\n",
      "Name: Bernard Arnault & family\n",
      "Net worth: $211 B\n",
      "Age: Bernard Arnault & family\n",
      "Citizenship: 1\n",
      "Source: Bernard Arnault & family\n",
      "----------------------------------------\n",
      "Rank: 1\n",
      "Name: Bernard Arnault & family\n",
      "Net worth: $211 B\n",
      "Age: Bernard Arnault & family\n",
      "Citizenship: 1\n",
      "Source: Bernard Arnault & family\n",
      "----------------------------------------\n",
      "Rank: 1\n",
      "Name: Bernard Arnault & family\n",
      "Net worth: $211 B\n",
      "Age: Bernard Arnault & family\n",
      "Citizenship: 1\n",
      "Source: Bernard Arnault & family\n",
      "----------------------------------------\n",
      "Rank: 1\n",
      "Name: Bernard Arnault & family\n",
      "Net worth: $211 B\n",
      "Age: Bernard Arnault & family\n",
      "Citizenship: 1\n",
      "Source: Bernard Arnault & family\n",
      "----------------------------------------\n",
      "Rank: 1\n",
      "Name: Bernard Arnault & family\n",
      "Net worth: $211 B\n",
      "Age: Bernard Arnault & family\n",
      "Citizenship: 1\n",
      "Source: Bernard Arnault & family\n",
      "----------------------------------------\n",
      "Rank: 1\n",
      "Name: Bernard Arnault & family\n",
      "Net worth: $211 B\n",
      "Age: Bernard Arnault & family\n",
      "Citizenship: 1\n",
      "Source: Bernard Arnault & family\n",
      "----------------------------------------\n",
      "Rank: 1\n",
      "Name: Bernard Arnault & family\n",
      "Net worth: $211 B\n",
      "Age: Bernard Arnault & family\n",
      "Citizenship: 1\n",
      "Source: Bernard Arnault & family\n",
      "----------------------------------------\n",
      "Rank: 1\n",
      "Name: Bernard Arnault & family\n",
      "Net worth: $211 B\n",
      "Age: Bernard Arnault & family\n",
      "Citizenship: 1\n",
      "Source: Bernard Arnault & family\n",
      "----------------------------------------\n",
      "Rank: 1\n",
      "Name: Bernard Arnault & family\n",
      "Net worth: $211 B\n",
      "Age: Bernard Arnault & family\n",
      "Citizenship: 1\n",
      "Source: Bernard Arnault & family\n",
      "----------------------------------------\n",
      "Rank: 1\n",
      "Name: Bernard Arnault & family\n",
      "Net worth: $211 B\n",
      "Age: Bernard Arnault & family\n",
      "Citizenship: 1\n",
      "Source: Bernard Arnault & family\n",
      "----------------------------------------\n",
      "Rank: 1\n",
      "Name: Bernard Arnault & family\n",
      "Net worth: $211 B\n",
      "Age: Bernard Arnault & family\n",
      "Citizenship: 1\n",
      "Source: Bernard Arnault & family\n",
      "----------------------------------------\n",
      "Rank: 1\n",
      "Name: Bernard Arnault & family\n",
      "Net worth: $211 B\n",
      "Age: Bernard Arnault & family\n",
      "Citizenship: 1\n",
      "Source: Bernard Arnault & family\n",
      "----------------------------------------\n",
      "Rank: 1\n",
      "Name: Bernard Arnault & family\n",
      "Net worth: $211 B\n",
      "Age: Bernard Arnault & family\n",
      "Citizenship: 1\n",
      "Source: Bernard Arnault & family\n",
      "----------------------------------------\n",
      "Rank: 1\n",
      "Name: Bernard Arnault & family\n",
      "Net worth: $211 B\n",
      "Age: Bernard Arnault & family\n",
      "Citizenship: 1\n",
      "Source: Bernard Arnault & family\n",
      "----------------------------------------\n",
      "Rank: 1\n",
      "Name: Bernard Arnault & family\n",
      "Net worth: $211 B\n",
      "Age: Bernard Arnault & family\n",
      "Citizenship: 1\n",
      "Source: Bernard Arnault & family\n",
      "----------------------------------------\n",
      "Rank: 1\n",
      "Name: Bernard Arnault & family\n",
      "Net worth: $211 B\n",
      "Age: Bernard Arnault & family\n",
      "Citizenship: 1\n",
      "Source: Bernard Arnault & family\n",
      "----------------------------------------\n",
      "Rank: 1\n",
      "Name: Bernard Arnault & family\n",
      "Net worth: $211 B\n",
      "Age: Bernard Arnault & family\n",
      "Citizenship: 1\n",
      "Source: Bernard Arnault & family\n",
      "----------------------------------------\n",
      "Rank: 1\n",
      "Name: Bernard Arnault & family\n",
      "Net worth: $211 B\n",
      "Age: Bernard Arnault & family\n",
      "Citizenship: 1\n",
      "Source: Bernard Arnault & family\n",
      "----------------------------------------\n",
      "Rank: 1\n",
      "Name: Bernard Arnault & family\n",
      "Net worth: $211 B\n",
      "Age: Bernard Arnault & family\n",
      "Citizenship: 1\n",
      "Source: Bernard Arnault & family\n",
      "----------------------------------------\n",
      "Rank: 1\n",
      "Name: Bernard Arnault & family\n",
      "Net worth: $211 B\n",
      "Age: Bernard Arnault & family\n",
      "Citizenship: 1\n",
      "Source: Bernard Arnault & family\n",
      "----------------------------------------\n"
     ]
    }
   ],
   "source": [
    "from selenium import webdriver\n",
    "from selenium.webdriver.common.by import By\n",
    "\n",
    "\n",
    "\n",
    "\n",
    "\n",
    "# Find the table rows containing the billionaire details using XPATH\n",
    "rows = driver.find_elements(By.XPATH, '//div[@class=\"TableRow_rowContainer__IC1Tv\"]')\n",
    "\n",
    "# Loop through each row and extract the required details\n",
    "for row in rows:\n",
    "    rank = row.find_element(By.XPATH, '//div[@class=\"TableRow_rowContainer__IC1Tv\"]//div[@class=\"Table_rank___YBhk Table_dataCell__2QCve\"]')\n",
    "    name = row.find_element(By.XPATH, '//div[@class=\"TableRow_rowContainer__IC1Tv\"]//div[@class=\"Table_dataCell__2QCve\"]')\n",
    "    net_worth = row.find_element(By.XPATH, '//div[@class=\"TableRow_rowContainer__IC1Tv\"]//div[@class=\"Table_netWorth___L4R5 Table_dataCell__2QCve\"]')\n",
    "    age = row.find_element(By.XPATH, '//div[@class=\"TableRow_rowContainer__IC1Tv\"]//div[@class=\"Table_dataCell__2QCve\"]')\n",
    "    citizenship = row.find_element(By.XPATH, '//div[@class=\"TableRow_rowContainer__IC1Tv\"]//div[@class=\"TableRow_cell__db-hv Table_cell__houv9\"]')\n",
    "    source = row.find_element(By.XPATH, '//div[@class=\"Table_dataCell__2QCve\"]')\n",
    "    \n",
    "    \n",
    "    # Print the extracted details\n",
    "    print(\"Rank:\", rank.text)\n",
    "    print(\"Name:\", name.text)\n",
    "    print(\"Net worth:\", net_worth.text)\n",
    "    print(\"Age:\", age.text)\n",
    "    print(\"Citizenship:\", citizenship.text)\n",
    "    print(\"Source:\", source.text)\n",
    "    \n",
    "    print(\"----------------------------------------\")\n",
    "\n",
    "# Close the browser\n",
    "driver.quit()\n"
   ]
  },
  {
   "cell_type": "code",
   "execution_count": null,
   "id": "82e10981",
   "metadata": {},
   "outputs": [],
   "source": []
  },
  {
   "cell_type": "code",
   "execution_count": null,
   "id": "3ac2a848",
   "metadata": {},
   "outputs": [],
   "source": []
  },
  {
   "cell_type": "code",
   "execution_count": null,
   "id": "87d17b48",
   "metadata": {},
   "outputs": [],
   "source": []
  },
  {
   "cell_type": "code",
   "execution_count": null,
   "id": "c76cd2ac",
   "metadata": {},
   "outputs": [],
   "source": []
  },
  {
   "cell_type": "code",
   "execution_count": null,
   "id": "8458e4ad",
   "metadata": {},
   "outputs": [],
   "source": []
  },
  {
   "cell_type": "code",
   "execution_count": null,
   "id": "e43b5cf4",
   "metadata": {},
   "outputs": [],
   "source": []
  },
  {
   "cell_type": "code",
   "execution_count": null,
   "id": "2120bbce",
   "metadata": {},
   "outputs": [],
   "source": []
  },
  {
   "cell_type": "code",
   "execution_count": null,
   "id": "dac81e72",
   "metadata": {},
   "outputs": [],
   "source": []
  },
  {
   "cell_type": "code",
   "execution_count": null,
   "id": "bf4b6a38",
   "metadata": {},
   "outputs": [],
   "source": []
  },
  {
   "cell_type": "code",
   "execution_count": null,
   "id": "f16836f9",
   "metadata": {},
   "outputs": [],
   "source": []
  },
  {
   "cell_type": "code",
   "execution_count": null,
   "id": "14f4d327",
   "metadata": {},
   "outputs": [],
   "source": []
  },
  {
   "cell_type": "code",
   "execution_count": null,
   "id": "a4c051a3",
   "metadata": {},
   "outputs": [],
   "source": []
  },
  {
   "cell_type": "code",
   "execution_count": null,
   "id": "7bec39e0",
   "metadata": {},
   "outputs": [],
   "source": []
  },
  {
   "cell_type": "code",
   "execution_count": null,
   "id": "9b82a7fa",
   "metadata": {},
   "outputs": [],
   "source": []
  },
  {
   "cell_type": "code",
   "execution_count": null,
   "id": "13f45257",
   "metadata": {},
   "outputs": [],
   "source": []
  },
  {
   "cell_type": "code",
   "execution_count": null,
   "id": "55d8569f",
   "metadata": {},
   "outputs": [],
   "source": []
  }
 ],
 "metadata": {
  "kernelspec": {
   "display_name": "Python 3 (ipykernel)",
   "language": "python",
   "name": "python3"
  },
  "language_info": {
   "codemirror_mode": {
    "name": "ipython",
    "version": 3
   },
   "file_extension": ".py",
   "mimetype": "text/x-python",
   "name": "python",
   "nbconvert_exporter": "python",
   "pygments_lexer": "ipython3",
   "version": "3.10.9"
  }
 },
 "nbformat": 4,
 "nbformat_minor": 5
}
