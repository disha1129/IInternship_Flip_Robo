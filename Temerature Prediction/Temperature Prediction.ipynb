{
 "cells": [
  {
   "cell_type": "markdown",
   "id": "3e32a4b3",
   "metadata": {},
   "source": [
    "## Temperature Prediction"
   ]
  },
  {
   "cell_type": "code",
   "execution_count": 1,
   "id": "823515c0",
   "metadata": {},
   "outputs": [
    {
     "ename": "SyntaxError",
     "evalue": "invalid syntax (2925892805.py, line 9)",
     "output_type": "error",
     "traceback": [
      "\u001b[1;36m  Input \u001b[1;32mIn [1]\u001b[1;36m\u001b[0m\n\u001b[1;33m    from sklearn.metrics import\u001b[0m\n\u001b[1;37m                                ^\u001b[0m\n\u001b[1;31mSyntaxError\u001b[0m\u001b[1;31m:\u001b[0m invalid syntax\n"
     ]
    }
   ],
   "source": [
    "import pandas as pd\n",
    "import numpy as np\n",
    "import matplotlib.pyplot as plt\n",
    "import seaborn as sns\n",
    "\n",
    "import warnings\n",
    "warnings.filterwarnings('ignore')\n",
    "\n",
    "from sklearn.metrics import "
   ]
  },
  {
   "cell_type": "code",
   "execution_count": 2,
   "id": "3937ba0e",
   "metadata": {},
   "outputs": [
    {
     "ename": "NameError",
     "evalue": "name 'pd' is not defined",
     "output_type": "error",
     "traceback": [
      "\u001b[1;31m---------------------------------------------------------------------------\u001b[0m",
      "\u001b[1;31mNameError\u001b[0m                                 Traceback (most recent call last)",
      "Input \u001b[1;32mIn [2]\u001b[0m, in \u001b[0;36m<cell line: 1>\u001b[1;34m()\u001b[0m\n\u001b[1;32m----> 1\u001b[0m df \u001b[38;5;241m=\u001b[39m \u001b[43mpd\u001b[49m\u001b[38;5;241m.\u001b[39mread_csv(\u001b[38;5;124m'\u001b[39m\u001b[38;5;124mtemperature.csv\u001b[39m\u001b[38;5;124m'\u001b[39m)\n\u001b[0;32m      2\u001b[0m pd\u001b[38;5;241m.\u001b[39mset_option(\u001b[38;5;124m'\u001b[39m\u001b[38;5;124mdisplay.max_column\u001b[39m\u001b[38;5;124m'\u001b[39m,\u001b[38;5;241m25\u001b[39m)\n\u001b[0;32m      3\u001b[0m \u001b[38;5;66;03m# pd.set_option('display.max_row',7752)\u001b[39;00m\n",
      "\u001b[1;31mNameError\u001b[0m: name 'pd' is not defined"
     ]
    }
   ],
   "source": [
    "df = pd.read_csv('temperature.csv')\n",
    "pd.set_option('display.max_column',25)\n",
    "# pd.set_option('display.max_row',7752)\n",
    "df"
   ]
  },
  {
   "cell_type": "code",
   "execution_count": null,
   "id": "eaebf898",
   "metadata": {},
   "outputs": [],
   "source": [
    "df.describe()"
   ]
  },
  {
   "cell_type": "code",
   "execution_count": null,
   "id": "8c6b853f",
   "metadata": {},
   "outputs": [],
   "source": [
    "df.info()"
   ]
  },
  {
   "cell_type": "code",
   "execution_count": null,
   "id": "d999fc20",
   "metadata": {},
   "outputs": [],
   "source": [
    "plt.figure(figsize=(15,15))\n",
    "sns.heatmap(df.corr(),cmap='Blues',annot=True)"
   ]
  },
  {
   "cell_type": "code",
   "execution_count": null,
   "id": "985a84cf",
   "metadata": {},
   "outputs": [],
   "source": [
    "df.isnull().sum()"
   ]
  },
  {
   "cell_type": "code",
   "execution_count": null,
   "id": "d07edabd",
   "metadata": {},
   "outputs": [],
   "source": [
    "plt.figure(figsize=(16,10))\n",
    "sns.heatmap(df.isna(),cbar=False)"
   ]
  },
  {
   "cell_type": "markdown",
   "id": "9a9dd173",
   "metadata": {},
   "source": [
    "#### Data Preprocessing"
   ]
  },
  {
   "cell_type": "code",
   "execution_count": null,
   "id": "83abcfd7",
   "metadata": {},
   "outputs": [],
   "source": [
    "save = df.copy()"
   ]
  },
  {
   "cell_type": "code",
   "execution_count": null,
   "id": "cb655f4c",
   "metadata": {},
   "outputs": [],
   "source": [
    "def feature_engg(df):\n",
    "    print(df.dtypes.value_counts())\n",
    "    return(df)"
   ]
  },
  {
   "cell_type": "code",
   "execution_count": null,
   "id": "e07fdeac",
   "metadata": {},
   "outputs": [],
   "source": [
    "def imputation(df):\n",
    "    df = df.dropna(axis=0)\n",
    "    return (df)"
   ]
  },
  {
   "cell_type": "code",
   "execution_count": null,
   "id": "94724d3d",
   "metadata": {},
   "outputs": [],
   "source": [
    "def preprocessing(df):\n",
    "    df = df.drop([\"Date\"],axis=1)\n",
    "    df = imputation(df)\n",
    "    df = feature_engg(df)\n",
    "    \n",
    "    X  = df.drop(['Next_Tmax','Next_Tmin'],axis=1)\n",
    "    y_max = df['Next_Tmax']\n",
    "    y_min = df['Next_Tmin']\n",
    "\n",
    "    print(X.shape)\n",
    "    print(y_max.shape)\n",
    "    \n",
    "    return X,y_max,y_min"
   ]
  },
  {
   "cell_type": "code",
   "execution_count": null,
   "id": "f1dc51f9",
   "metadata": {},
   "outputs": [],
   "source": [
    "from sklearn.model_selection import train_test_split\n",
    "trainset, testset = train_test_split(df, test_size=0.2, random_state=0)"
   ]
  },
  {
   "cell_type": "code",
   "execution_count": null,
   "id": "78ce4690",
   "metadata": {},
   "outputs": [],
   "source": [
    "7752-1550"
   ]
  },
  {
   "cell_type": "code",
   "execution_count": null,
   "id": "0c16186f",
   "metadata": {},
   "outputs": [],
   "source": [
    "X_train, y_min_train, y_max_train = preprocessing(trainset)\n"
   ]
  },
  {
   "cell_type": "code",
   "execution_count": null,
   "id": "0deecb34",
   "metadata": {},
   "outputs": [],
   "source": [
    "from sklearn.pipeline import make_pipeline\n",
    "from sklearn.preprocessing import StandardScaler\n",
    "from sklearn.model_selection import cross_validate\n",
    "from sklearn.linear_model import SGDRegressor"
   ]
  },
  {
   "cell_type": "code",
   "execution_count": null,
   "id": "770acade",
   "metadata": {},
   "outputs": [],
   "source": [
    "regreesion_max = make_pipeline(StandardScaler(),SGDRegressor(loss='squared_error',penalty='l2',\n",
    "                             max_iter=500))\n",
    "regreesion_max.fit(X_train,y_max_train)\n",
    "\n",
    "\n",
    "regreesion_min = make_pipeline(StandardScaler(),SGDRegressor(loss='squared_error',penalty='l2',\n",
    "                             max_iter=500))\n",
    "regreesion_min.fit(X_train,y_min_train)"
   ]
  },
  {
   "cell_type": "code",
   "execution_count": null,
   "id": "207ca63b",
   "metadata": {},
   "outputs": [],
   "source": [
    "cv_results_min = cross_validate(regreesion_min, X_train, y_min_train, cv=5, scoring=('r2', \"neg_root_mean_squared_error\"), return_train_score=True)\n",
    "cv_results_max = cross_validate(regreesion_max, X_train, y_max_train, cv=5, scoring=('r2', \"neg_root_mean_squared_error\"), return_train_score=True)"
   ]
  },
  {
   "cell_type": "markdown",
   "id": "01902345",
   "metadata": {},
   "source": [
    "#### Model Evaluation"
   ]
  },
  {
   "cell_type": "code",
   "execution_count": null,
   "id": "70dda1d4",
   "metadata": {},
   "outputs": [],
   "source": [
    "print('For the Next_Tmax :')\n",
    "print('Test RMSE :' , round(-cv_results_max['test_neg_root_mean_squared_error'].mean(),3))\n",
    "print('Test r2 :' , round(cv_results_max['test_r2'].mean(),3))\n",
    "print(\"Train RMSE :\" , round(-cv_results_max['train_neg_root_mean_squared_error'].mean(),3))\n",
    "print(\"Train r2 :\" , round(cv_results_max['train_r2'].mean(),3))"
   ]
  },
  {
   "cell_type": "code",
   "execution_count": null,
   "id": "90669312",
   "metadata": {},
   "outputs": [],
   "source": [
    "print('For the Next_Tmin :')\n",
    "print('Test RMSE :' , round(-cv_results_min['test_neg_root_mean_squared_error'].mean(),3))\n",
    "print('Test r2 :' , round(cv_results_min['test_r2'].mean(),3))\n",
    "print(\"Train RMSE :\" , round(-cv_results_min['train_neg_root_mean_squared_error'].mean(),3))\n",
    "print(\"Train r2 :\" , round(cv_results_min['train_r2'].mean(),3))"
   ]
  },
  {
   "cell_type": "markdown",
   "id": "8efb7f7d",
   "metadata": {},
   "source": [
    "#### Model Prediction"
   ]
  },
  {
   "cell_type": "code",
   "execution_count": null,
   "id": "4bdb39d8",
   "metadata": {},
   "outputs": [],
   "source": [
    "(X_test, y_min_test, y_max_test) = preprocessing(testset)\n",
    "X_test.shape"
   ]
  },
  {
   "cell_type": "code",
   "execution_count": null,
   "id": "4343e6c4",
   "metadata": {},
   "outputs": [],
   "source": [
    "Next_Tmin_predict = regreesion_min.predict(X_test)\n",
    "Next_Tmax_predict = regreesion_max.predict(X_test)"
   ]
  },
  {
   "cell_type": "code",
   "execution_count": null,
   "id": "98f26191",
   "metadata": {},
   "outputs": [],
   "source": []
  }
 ],
 "metadata": {
  "kernelspec": {
   "display_name": "Python 3 (ipykernel)",
   "language": "python",
   "name": "python3"
  },
  "language_info": {
   "codemirror_mode": {
    "name": "ipython",
    "version": 3
   },
   "file_extension": ".py",
   "mimetype": "text/x-python",
   "name": "python",
   "nbconvert_exporter": "python",
   "pygments_lexer": "ipython3",
   "version": "3.9.12"
  }
 },
 "nbformat": 4,
 "nbformat_minor": 5
}
