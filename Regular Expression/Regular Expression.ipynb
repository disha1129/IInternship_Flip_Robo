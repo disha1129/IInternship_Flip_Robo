{
 "cells": [
  {
   "cell_type": "raw",
   "id": "28ec70b0",
   "metadata": {},
   "source": [
    "Question 1- Write a Python program to check that a string contains only a certain set of characters (in this case a-z, A-Z and 0-9)."
   ]
  },
  {
   "cell_type": "code",
   "execution_count": 6,
   "id": "74a64670",
   "metadata": {},
   "outputs": [
    {
     "name": "stdout",
     "output_type": "stream",
     "text": [
      "Enter a string: Disha\n",
      "String contains only characters.\n"
     ]
    }
   ],
   "source": [
    "def chars(input_str):\n",
    "    allowed_chars = set(\"abcdefghijklmnopqrstuvwxyzABCDEFGHIJKLMNOPQRSTUVWXYZ0123456789\")\n",
    "    for char in input_str:\n",
    "        if char not in allowed_chars:\n",
    "            return False\n",
    "    return True\n",
    "\n",
    "\n",
    "input_string = input(\"Enter a string: \")\n",
    "if chars(input_string):\n",
    "    print(\"String contains only characters.\")\n",
    "else:\n",
    "    print(\"String contains characters other than all characters.\")"
   ]
  },
  {
   "cell_type": "code",
   "execution_count": 10,
   "id": "b674c092",
   "metadata": {},
   "outputs": [
    {
     "name": "stdout",
     "output_type": "stream",
     "text": [
      "Enter a string: abbnbb\n",
      "Pattern not matched!\n"
     ]
    }
   ],
   "source": [
    "import re\n",
    "\n",
    "def match_pattern(input_str):\n",
    "    pattern = r'ab*'\n",
    "    match = re.fullmatch(pattern, input_str)\n",
    "    if match:\n",
    "        return True\n",
    "    else:\n",
    "        return False\n",
    "\n",
    "\n",
    "input_string = input(\"Enter a string: \")\n",
    "if match_pattern(input_string):\n",
    "    print(\"Pattern matched!\")\n",
    "else:\n",
    "    print(\"Pattern not matched!\")"
   ]
  },
  {
   "cell_type": "code",
   "execution_count": 13,
   "id": "93af163c",
   "metadata": {},
   "outputs": [
    {
     "name": "stdout",
     "output_type": "stream",
     "text": [
      "Enter a string: abbbbbbbbb\n",
      "Pattern matched!\n"
     ]
    }
   ],
   "source": [
    "import re\n",
    "\n",
    "def match_pattern(input_str):\n",
    "    pattern = r'ab+'\n",
    "    match = re.fullmatch(pattern, input_str)\n",
    "    if match:\n",
    "        return True\n",
    "    else:\n",
    "        return False\n",
    "\n",
    "input_string = input(\"Enter a string: \")\n",
    "if match_pattern(input_string):\n",
    "    print(\"Pattern matched!\")\n",
    "else:\n",
    "    print(\"Pattern not matched!\")"
   ]
  },
  {
   "cell_type": "markdown",
   "id": "91484dac",
   "metadata": {},
   "source": [
    "Question 4- Create a function in Python and use RegEx that matches a string that has an a followed by zero or one 'b'."
   ]
  },
  {
   "cell_type": "code",
   "execution_count": 18,
   "id": "c2b654dd",
   "metadata": {},
   "outputs": [
    {
     "name": "stdout",
     "output_type": "stream",
     "text": [
      "Enter a string: ab\n",
      "Pattern matched!\n"
     ]
    }
   ],
   "source": [
    "import re\n",
    "\n",
    "def match_pattern(input_str):\n",
    "    pattern = r'ab?'\n",
    "    match = re.fullmatch(pattern, input_str)\n",
    "    if match:\n",
    "        return True\n",
    "    else:\n",
    "        return False\n",
    "\n",
    "input_string = input(\"Enter a string: \")\n",
    "if match_pattern(input_string):\n",
    "    print(\"Pattern matched!\")\n",
    "else:\n",
    "    print(\"Pattern not matched!\")\n"
   ]
  },
  {
   "cell_type": "markdown",
   "id": "f9d2b4c5",
   "metadata": {},
   "source": [
    "Question 5- Write a Python program that matches a string that has an a followed by three 'b'."
   ]
  },
  {
   "cell_type": "code",
   "execution_count": 20,
   "id": "1e2fd7e4",
   "metadata": {},
   "outputs": [
    {
     "name": "stdout",
     "output_type": "stream",
     "text": [
      "Enter a string: abbb\n",
      "Pattern matched!\n"
     ]
    }
   ],
   "source": [
    "import re\n",
    "\n",
    "def match_pattern(input_str):\n",
    "    pattern = r'abbb'\n",
    "    match = re.fullmatch(pattern, input_str)\n",
    "    if match:\n",
    "        return True\n",
    "    else:\n",
    "        return False\n",
    "\n",
    "\n",
    "input_string = input(\"Enter a string: \")\n",
    "if match_pattern(input_string):\n",
    "    print(\"Pattern matched!\")\n",
    "else:\n",
    "    print(\"Pattern not matched!\")\n"
   ]
  },
  {
   "cell_type": "markdown",
   "id": "86557c89",
   "metadata": {},
   "source": [
    "Question 6- Write a regular expression in Python to split a string into uppercase letters.\n",
    "Sample text: “ImportanceOfRegularExpressionsInPython”\n"
   ]
  },
  {
   "cell_type": "code",
   "execution_count": 21,
   "id": "00074c11",
   "metadata": {},
   "outputs": [
    {
     "name": "stdout",
     "output_type": "stream",
     "text": [
      "['', 'Importance', 'Of', 'Regular', 'Expressions', 'In', 'Python']\n"
     ]
    }
   ],
   "source": [
    "import re\n",
    "\n",
    "input_text = \"ImportanceOfRegularExpressionsInPython\"\n",
    "\n",
    "uppercase_letters = re.split(r'(?=[A-Z])', input_text)\n",
    "print(uppercase_letters)\n"
   ]
  },
  {
   "cell_type": "markdown",
   "id": "078b62a1",
   "metadata": {},
   "source": [
    "Question 7- Write a Python program that matches a string that has an a followed by two to three 'b'."
   ]
  },
  {
   "cell_type": "code",
   "execution_count": 27,
   "id": "d20c389d",
   "metadata": {},
   "outputs": [
    {
     "name": "stdout",
     "output_type": "stream",
     "text": [
      "Enter a string: abb\n",
      "Pattern matched!\n"
     ]
    }
   ],
   "source": [
    "import re\n",
    "\n",
    "def match_pattern(input_str):\n",
    "    pattern = r'ab{2,3}'\n",
    "    match = re.fullmatch(pattern, input_str)\n",
    "    if match:\n",
    "        return True\n",
    "    else:\n",
    "        return False\n",
    "\n",
    "\n",
    "input_string = input(\"Enter a string: \")\n",
    "if match_pattern(input_string):\n",
    "    print(\"Pattern matched!\")\n",
    "else:\n",
    "    print(\"Pattern not matched!\")"
   ]
  },
  {
   "cell_type": "markdown",
   "id": "005406e5",
   "metadata": {},
   "source": [
    "Question 8- Write a Python program to find sequences of lowercase letters joined with a underscore."
   ]
  },
  {
   "cell_type": "code",
   "execution_count": 29,
   "id": "db4b2687",
   "metadata": {},
   "outputs": [
    {
     "name": "stdout",
     "output_type": "stream",
     "text": [
      "Enter a string: hello_world is_a_sequence\n",
      "Sequences found: ['hello_world', 'is_a']\n"
     ]
    }
   ],
   "source": [
    "import re\n",
    "\n",
    "def find_sequences(input_str):\n",
    "    pattern = r'[a-z]+_[a-z]+'\n",
    "    sequences = re.findall(pattern, input_str)\n",
    "    return sequences\n",
    "\n",
    "\n",
    "input_string = input(\"Enter a string: \")\n",
    "result = find_sequences(input_string)\n",
    "print(\"Sequences found:\", result)"
   ]
  },
  {
   "cell_type": "markdown",
   "id": "09d93135",
   "metadata": {},
   "source": [
    "Question 9- Write a Python program that matches a string that has an 'a' followed by anything, ending in 'b'."
   ]
  },
  {
   "cell_type": "code",
   "execution_count": 30,
   "id": "1e2e331e",
   "metadata": {},
   "outputs": [
    {
     "name": "stdout",
     "output_type": "stream",
     "text": [
      "Enter a string: acb\n",
      "Pattern matched!\n"
     ]
    }
   ],
   "source": [
    "import re\n",
    "\n",
    "def match_pattern(input_str):\n",
    "    pattern = r'a.*b$'\n",
    "    match = re.match(pattern, input_str)\n",
    "    if match:\n",
    "        return True\n",
    "    else:\n",
    "        return False\n",
    "\n",
    "input_string = input(\"Enter a string: \")\n",
    "if match_pattern(input_string):\n",
    "    print(\"Pattern matched!\")\n",
    "else:\n",
    "    print(\"Pattern not matched!\")"
   ]
  },
  {
   "cell_type": "markdown",
   "id": "81f6c941",
   "metadata": {},
   "source": [
    "Question 10- Write a Python program that matches a word at the beginning of a string."
   ]
  },
  {
   "cell_type": "code",
   "execution_count": 31,
   "id": "4766e6b4",
   "metadata": {},
   "outputs": [
    {
     "name": "stdout",
     "output_type": "stream",
     "text": [
      "Enter a string: Hello, World!\n",
      "Pattern matched!\n"
     ]
    }
   ],
   "source": [
    "import re\n",
    "\n",
    "def match_pattern(input_str):\n",
    "    pattern = r'^\\w+'\n",
    "    match = re.match(pattern, input_str)\n",
    "    if match:\n",
    "        return True\n",
    "    else:\n",
    "        return False\n",
    "\n",
    "input_string = input(\"Enter a string: \")\n",
    "if match_pattern(input_string):\n",
    "    print(\"Pattern matched!\")\n",
    "else:\n",
    "    print(\"Pattern not matched!\")\n"
   ]
  },
  {
   "cell_type": "raw",
   "id": "2a9aa2e4",
   "metadata": {},
   "source": [
    "Question 11- Write a Python program to match a string that contains only upper and lowercase letters, numbers, and underscores."
   ]
  },
  {
   "cell_type": "code",
   "execution_count": 32,
   "id": "5b5cc302",
   "metadata": {},
   "outputs": [
    {
     "name": "stdout",
     "output_type": "stream",
     "text": [
      "Enter a string: Hello_World_123\n",
      "Pattern matched!\n"
     ]
    }
   ],
   "source": [
    "import re\n",
    "\n",
    "def match_pattern(input_str):\n",
    "    pattern = r'^[a-zA-Z0-9_]+$'\n",
    "    match = re.match(pattern, input_str)\n",
    "    if match:\n",
    "        return True\n",
    "    else:\n",
    "        return False\n",
    "\n",
    "input_string = input(\"Enter a string: \")\n",
    "if match_pattern(input_string):\n",
    "    print(\"Pattern matched!\")\n",
    "else:\n",
    "    print(\"Pattern not matched!\")"
   ]
  },
  {
   "cell_type": "markdown",
   "id": "71a019a6",
   "metadata": {},
   "source": [
    "Question 12- Write a Python program where a string will start with a specific number. "
   ]
  },
  {
   "cell_type": "code",
   "execution_count": 33,
   "id": "964edadc",
   "metadata": {},
   "outputs": [
    {
     "name": "stdout",
     "output_type": "stream",
     "text": [
      "Enter a string: 123abc\n",
      "Enter the specific number:  123\n",
      "String does not start with the specific number.\n"
     ]
    }
   ],
   "source": [
    "def starts_number(input_str, number):\n",
    "    return input_str.startswith(str(number))\n",
    "\n",
    "input_string = input(\"Enter a string: \")\n",
    "specific_number = input(\"Enter the specific number: \")\n",
    "if starts_number(input_string, specific_number):\n",
    "    print(\"String starts with the specific number.\")\n",
    "else:\n",
    "    print(\"String does not start with the specific number.\")\n"
   ]
  },
  {
   "cell_type": "markdown",
   "id": "65f59cf2",
   "metadata": {},
   "source": [
    "Question 13- Write a Python program to remove leading zeros from an IP address"
   ]
  },
  {
   "cell_type": "code",
   "execution_count": 34,
   "id": "fef545c3",
   "metadata": {},
   "outputs": [
    {
     "name": "stdout",
     "output_type": "stream",
     "text": [
      "Enter an IP address: 10.010.0.001\n",
      "IP address without leading zeros: 10.10.0.1\n"
     ]
    }
   ],
   "source": [
    "def remove_zeros(ip_address):\n",
    "    octets = ip_address.split('.')\n",
    "    cleaned_octets = [str(int(octet)) for octet in octets]\n",
    "    cleaned_ip = '.'.join(cleaned_octets)\n",
    "    return cleaned_ip\n",
    "\n",
    "ip_address = input(\"Enter an IP address: \")\n",
    "cleaned_ip_address = remove_zeros(ip_address)\n",
    "print(\"IP address without leading zeros:\", cleaned_ip_address)"
   ]
  },
  {
   "cell_type": "raw",
   "id": "2f86d6be",
   "metadata": {},
   "source": [
    "Question 14- Write a regular expression in python to match a date string in the form of Month name followed by day number and year stored in a text file.\n",
    "Sample text : ' On August 15th 1947 that India was declared independent from British colonialism, and the reins of control were handed over to the leaders of the Country’.\n",
    "Output- August 15th 1947\n",
    "Hint- Use re.match() method here\n"
   ]
  },
  {
   "cell_type": "code",
   "execution_count": 35,
   "id": "1d36cc61",
   "metadata": {},
   "outputs": [
    {
     "name": "stdout",
     "output_type": "stream",
     "text": [
      "No date string found.\n"
     ]
    }
   ],
   "source": [
    "import re\n",
    "\n",
    "def match_date_string(text):\n",
    "    pattern = r'\\b[A-Za-z]+\\s+\\d+(?:st|nd|rd|th)?\\s+\\d{4}\\b'\n",
    "    match = re.match(pattern, text)\n",
    "    if match:\n",
    "        return match.group()\n",
    "    else:\n",
    "        return None\n",
    "\n",
    "\n",
    "input_text = \"On August 15th 1947 that India was declared independent from British colonialism, and the reins of control were handed over to the leaders of the Country.\"\n",
    "matched_date = match_date_string(input_text)\n",
    "if matched_date:\n",
    "    print(\"Matched date string:\", matched_date)\n",
    "else:\n",
    "    print(\"No date string found.\")\n"
   ]
  },
  {
   "cell_type": "raw",
   "id": "c11bae03",
   "metadata": {},
   "source": [
    "Question 15- Write a Python program to search some literals strings in a string. Go to the editor\n",
    "Sample text : 'The quick brown fox jumps over the lazy dog.'\n",
    "Searched words : 'fox', 'dog', 'horse'\n"
   ]
  },
  {
   "cell_type": "code",
   "execution_count": 37,
   "id": "840b418b",
   "metadata": {},
   "outputs": [
    {
     "name": "stdout",
     "output_type": "stream",
     "text": [
      "Found words: ['fox', 'dog']\n"
     ]
    }
   ],
   "source": [
    "def search(text, searched_words):\n",
    "    found_words = []\n",
    "    for word in searched_words:\n",
    "        if word in text:\n",
    "            found_words.append(word)\n",
    "    return found_words\n",
    "\n",
    "text = \"The quick brown fox jumps over the lazy dog.\"\n",
    "searched_words = ['fox', 'dog', 'horse']\n",
    "found_words = search(text, searched_words)\n",
    "\n",
    "print(\"Found words:\", found_words)"
   ]
  },
  {
   "cell_type": "raw",
   "id": "7070d8c5",
   "metadata": {},
   "source": [
    "Question 16- Write a Python program to search a literals string in a string and also find the location within the original string where the pattern occurs\n",
    "Sample text : 'The quick brown fox jumps over the lazy dog.'\n",
    "Searched words : 'fox'\n"
   ]
  },
  {
   "cell_type": "code",
   "execution_count": 38,
   "id": "14d5d04f",
   "metadata": {},
   "outputs": [
    {
     "name": "stdout",
     "output_type": "stream",
     "text": [
      "Locations: [16]\n"
     ]
    }
   ],
   "source": [
    "import re\n",
    "\n",
    "def search_literal_with_location(text, searched_word):\n",
    "    pattern = re.compile(re.escape(searched_word))\n",
    "    matches = pattern.finditer(text)\n",
    "    locations = [match.start() for match in matches]\n",
    "    return locations\n",
    "\n",
    "\n",
    "text = \"The quick brown fox jumps over the lazy dog.\"\n",
    "searched_word = \"fox\"\n",
    "locations = search_literal_with_location(text, searched_word)\n",
    "\n",
    "print(\"Locations:\", locations)\n"
   ]
  },
  {
   "cell_type": "raw",
   "id": "0351878e",
   "metadata": {},
   "source": [
    "Question 17- Write a Python program to find the substrings within a string.\n",
    "Sample text : 'Python exercises, PHP exercises, C# exercises'\n",
    "Pattern : 'exercises'.\n"
   ]
  },
  {
   "cell_type": "code",
   "execution_count": 40,
   "id": "6da99e9a",
   "metadata": {},
   "outputs": [
    {
     "name": "stdout",
     "output_type": "stream",
     "text": [
      "Substrings found: ['exercises', 'exercises', 'exercises']\n"
     ]
    }
   ],
   "source": [
    "import re\n",
    "\n",
    "def find_subs(text, pattern):\n",
    "    matches = re.findall(pattern, text)\n",
    "    return matches\n",
    "\n",
    "\n",
    "text = 'Python exercises, PHP exercises, C# exercises'\n",
    "pattern = 'exercises'\n",
    "substrings = find_subs(text, pattern)\n",
    "\n",
    "print(\"Substrings found:\", substrings)\n"
   ]
  },
  {
   "cell_type": "raw",
   "id": "37561f5a",
   "metadata": {},
   "source": [
    "Question 18- Write a Python program to find the occurrence and position of the substrings within a string."
   ]
  },
  {
   "cell_type": "code",
   "execution_count": 41,
   "id": "68cc4fbe",
   "metadata": {},
   "outputs": [
    {
     "name": "stdout",
     "output_type": "stream",
     "text": [
      "Occurrences and Positions:\n",
      "'exercises' found at position 7\n",
      "'exercises' found at position 22\n",
      "'exercises' found at position 36\n"
     ]
    }
   ],
   "source": [
    "def find_occu_and_pos(text, substring):\n",
    "    occurrences = []\n",
    "    start = 0\n",
    "\n",
    "    while True:\n",
    "        pos = text.find(substring, start)\n",
    "        if pos == -1:\n",
    "            break\n",
    "        occurrences.append((substring, pos))\n",
    "        start = pos + 1\n",
    "\n",
    "    return occurrences\n",
    "\n",
    "\n",
    "text = 'Python exercises, PHP exercises, C# exercises'\n",
    "substring = 'exercises'\n",
    "occurrences = find_occu_and_pos(text, substring)\n",
    "\n",
    "print(\"Occurrences and Positions:\")\n",
    "for substring, pos in occurrences:\n",
    "    print(f\"'{substring}' found at position {pos}\")\n"
   ]
  },
  {
   "cell_type": "raw",
   "id": "2eae097c",
   "metadata": {},
   "source": [
    "Question 19- Write a Python program to convert a date of yyyy-mm-dd format to dd-mm-yyyy format."
   ]
  },
  {
   "cell_type": "code",
   "execution_count": 42,
   "id": "9788e06d",
   "metadata": {},
   "outputs": [
    {
     "name": "stdout",
     "output_type": "stream",
     "text": [
      "Enter a date in yyyy-mm-dd format: 2023-07-16\n",
      "Converted date: 16-07-2023\n"
     ]
    }
   ],
   "source": [
    "def convert_date_format(date):\n",
    "    parts = date.split('-')\n",
    "    if len(parts) != 3:\n",
    "        return \"Invalid date format\"\n",
    "    \n",
    "    year, month, day = parts\n",
    "    converted_date = f\"{day}-{month}-{year}\"\n",
    "    return converted_date\n",
    "\n",
    "\n",
    "date_input = input(\"Enter a date in yyyy-mm-dd format: \")\n",
    "converted_date = convert_date_format(date_input)\n",
    "print(\"Converted date:\", converted_date)\n"
   ]
  },
  {
   "cell_type": "raw",
   "id": "30229cd5",
   "metadata": {},
   "source": [
    "Question 20- Write a Python program to find all words starting with 'a' or 'e' in a given string."
   ]
  },
  {
   "cell_type": "code",
   "execution_count": 43,
   "id": "2a6a53c7",
   "metadata": {},
   "outputs": [
    {
     "name": "stdout",
     "output_type": "stream",
     "text": [
      "Words starting with 'a' or 'e': ['An', 'apple', 'and', 'an', 'elephant', 'entered']\n"
     ]
    }
   ],
   "source": [
    "import re\n",
    "\n",
    "def find_words_starting_with_a_or_e(text):\n",
    "    pattern = r'\\b[aeAE]\\w+\\b'\n",
    "    matches = re.findall(pattern, text)\n",
    "    return matches\n",
    "\n",
    "text = \"An apple and an elephant entered the room.\"\n",
    "words = find_words_starting_with_a_or_e(text)\n",
    "\n",
    "print(\"Words starting with 'a' or 'e':\", words)\n"
   ]
  },
  {
   "cell_type": "raw",
   "id": "086e8d81",
   "metadata": {},
   "source": [
    "Question 21- Write a Python program to separate and print the numbers and their position of a given string."
   ]
  },
  {
   "cell_type": "code",
   "execution_count": 44,
   "id": "7959a15d",
   "metadata": {},
   "outputs": [
    {
     "name": "stdout",
     "output_type": "stream",
     "text": [
      "Number: 25, Position: 14\n",
      "Number: 99, Position: 17\n",
      "Number: 10, Position: 40\n"
     ]
    }
   ],
   "source": [
    "import re\n",
    "\n",
    "def separate_numbers_and_positions(text):\n",
    "    pattern = r'\\d+'\n",
    "    matches = re.finditer(pattern, text)\n",
    "    for match in matches:\n",
    "        number = match.group()\n",
    "        position = match.start()\n",
    "        print(f\"Number: {number}, Position: {position}\")\n",
    "\n",
    "text = \"The price is $25.99 and the quantity is 10.\"\n",
    "separate_numbers_and_positions(text)\n"
   ]
  },
  {
   "cell_type": "raw",
   "id": "1b7f1ff3",
   "metadata": {},
   "source": [
    "Question 22- Write a regular expression in python program to extract maximum numeric value from a string"
   ]
  },
  {
   "cell_type": "code",
   "execution_count": 46,
   "id": "7d2061fc",
   "metadata": {},
   "outputs": [
    {
     "name": "stdout",
     "output_type": "stream",
     "text": [
      "Maximum numeric value: 9876\n"
     ]
    }
   ],
   "source": [
    "import re\n",
    "\n",
    "def maximum_numeric_value(text):\n",
    "    pattern = r'\\d+'\n",
    "    numbers = re.findall(pattern, text)\n",
    "    if numbers:\n",
    "        max_number = max(map(int, numbers))\n",
    "        return max_number\n",
    "    else:\n",
    "        return None\n",
    "\n",
    "\n",
    "text = \"The maximum number is 9876 and the minimum is 123.\"\n",
    "max_value = maximum_numeric_value(text)\n",
    "print(\"Maximum numeric value:\", max_value)\n"
   ]
  },
  {
   "cell_type": "raw",
   "id": "8fe37d68",
   "metadata": {},
   "source": [
    "Question 23- Write a Regex in Python to put spaces between words starting with capital letters"
   ]
  },
  {
   "cell_type": "code",
   "execution_count": 48,
   "id": "51e38ca0",
   "metadata": {},
   "outputs": [
    {
     "name": "stdout",
     "output_type": "stream",
     "text": [
      "Modified text: This Is ARegular String With No Spaces Between Words\n"
     ]
    }
   ],
   "source": [
    "import re\n",
    "\n",
    "def spaces_between_capital_words(text):\n",
    "    pattern = r'([a-z])([A-Z])'\n",
    "    result = re.sub(pattern, r'\\1 \\2', text)\n",
    "    return result\n",
    "\n",
    "\n",
    "text = \"ThisIsARegularStringWithNoSpacesBetweenWords\"\n",
    "modified_text = spaces_between_capital_words(text)\n",
    "print(\"Modified text:\", modified_text)\n"
   ]
  },
  {
   "cell_type": "raw",
   "id": "842f39b4",
   "metadata": {},
   "source": [
    "Question 24- Python regex to find sequences of one upper case letter followed by lower case letters"
   ]
  },
  {
   "cell_type": "code",
   "execution_count": 50,
   "id": "f50e991a",
   "metadata": {},
   "outputs": [
    {
     "name": "stdout",
     "output_type": "stream",
     "text": [
      "Sequences found: ['The', 'Quick', 'Brown', 'Fox', 'Jumps', 'Over', 'The', 'Lazy', 'Dog']\n"
     ]
    }
   ],
   "source": [
    "import re\n",
    "\n",
    "def find_sequences(text):\n",
    "    pattern = r'[A-Z][a-z]+'\n",
    "    sequences = re.findall(pattern, text)\n",
    "    return sequences\n",
    "\n",
    "text = \"The Quick Brown Fox Jumps Over The Lazy Dog\"\n",
    "sequences = find_sequences(text)\n",
    "print(\"Sequences found:\", sequences)\n"
   ]
  },
  {
   "cell_type": "raw",
   "id": "b2d5d01b",
   "metadata": {},
   "source": [
    "Question 25- Write a Python program to remove duplicate words from Sentence using Regular Expression"
   ]
  },
  {
   "cell_type": "code",
   "execution_count": 51,
   "id": "879b388d",
   "metadata": {},
   "outputs": [
    {
     "name": "stdout",
     "output_type": "stream",
     "text": [
      "Modified sentence: This is a sentence with duplicate words is and sentence.\n"
     ]
    }
   ],
   "source": [
    "import re\n",
    "\n",
    "def remove_duplicate_words(sentence):\n",
    "    pattern = r'\\b(\\w+)(\\s+\\1)+\\b'\n",
    "    result = re.sub(pattern, r'\\1', sentence)\n",
    "    return result\n",
    "\n",
    "\n",
    "sentence = \"This is a sentence with duplicate words is and sentence.\"\n",
    "modified_sentence = remove_duplicate_words(sentence)\n",
    "print(\"Modified sentence:\", modified_sentence)\n"
   ]
  },
  {
   "cell_type": "raw",
   "id": "bab05603",
   "metadata": {},
   "source": [
    "Question 27-Write a python program using RegEx to extract the hashtags."
   ]
  },
  {
   "cell_type": "code",
   "execution_count": 53,
   "id": "1e6367a9",
   "metadata": {},
   "outputs": [
    {
     "name": "stdout",
     "output_type": "stream",
     "text": [
      "Extracted hashtags: ['#Doltiwal', '#xyzabc', '#Demonetization']\n"
     ]
    }
   ],
   "source": [
    "import re\n",
    "\n",
    "def extract_hashtags(text):\n",
    "    pattern = r'#[^\\s]+'\n",
    "    hashtags = re.findall(pattern, text)\n",
    "    return hashtags\n",
    "\n",
    "\n",
    "text = \"\"\"RT @kapil_kausik: #Doltiwal I mean #xyzabc is \"hurt\" by #Demonetization as the same has rendered USELESS <ed><U+00A0><U+00BD><ed><U+00B1><U+0089> \"acquired funds\" No wo\"\"\"\n",
    "hashtags = extract_hashtags(text)\n",
    "print(\"Extracted hashtags:\", hashtags)\n"
   ]
  },
  {
   "cell_type": "code",
   "execution_count": 54,
   "id": "20bf23bc",
   "metadata": {},
   "outputs": [
    {
     "name": "stdout",
     "output_type": "stream",
     "text": [
      "Cleaned text: @Jags123456 Bharat band on 28??<ed><ed>Those who  are protesting #demonetization  are all different party leaders\n"
     ]
    }
   ],
   "source": [
    "import re\n",
    "\n",
    "def remove_special_symbols(text):\n",
    "    pattern = r'<U\\+\\w+>'\n",
    "    cleaned_text = re.sub(pattern, '', text)\n",
    "    return cleaned_text\n",
    "\n",
    "text = \"@Jags123456 Bharat band on 28??<ed><U+00A0><U+00BD><ed><U+00B8><U+0082>Those who  are protesting #demonetization  are all different party leaders\"\n",
    "cleaned_text = remove_special_symbols(text)\n",
    "print(\"Cleaned text:\", cleaned_text)\n"
   ]
  },
  {
   "cell_type": "code",
   "execution_count": 65,
   "id": "f6dc3ab1",
   "metadata": {},
   "outputs": [
    {
     "name": "stdout",
     "output_type": "stream",
     "text": [
      "Enter the file path: simpletxt\"C:/Users/LENOVO/Intership_Flip_Robo/sampletxt.txt\"\n",
      "Extracted dates: ['12-09-1992', '15-12-1999']\n"
     ]
    }
   ],
   "source": [
    "import re\n",
    "\n",
    "def extract_dates_from_file():\n",
    "    file_path = input(\"Enter the file path: simpletxt\")\n",
    "    with open('C:/Users/LENOVO/Intership_Flip_Robo/sampletxt.txt', 'r') as file:\n",
    "        text = file.read()\n",
    "        pattern = r'\\b\\d{2}-\\d{2}-\\d{4}\\b'\n",
    "        dates = re.findall(pattern, text)\n",
    "        return dates\n",
    "\n",
    "\n",
    "dates = extract_dates_from_file()\n",
    "print(\"Extracted dates:\", dates)\n"
   ]
  },
  {
   "cell_type": "raw",
   "id": "c883ec4e",
   "metadata": {},
   "source": [
    "Question 30- Write a Python program to replace all occurrences of a space, comma, or dot with a colon.\n",
    "Sample Text- 'Python Exercises, PHP exercises.'\n",
    "Output: Python:Exercises::PHP:exercises:\n"
   ]
  },
  {
   "cell_type": "code",
   "execution_count": 66,
   "id": "cc594a88",
   "metadata": {},
   "outputs": [
    {
     "name": "stdout",
     "output_type": "stream",
     "text": [
      "Modified text: Python:Exercises::PHP:exercises:\n"
     ]
    }
   ],
   "source": [
    "def replace_space_comma_dot_with_colon(text):\n",
    "    replacements = [' ', ',', '.']\n",
    "    for char in replacements:\n",
    "        text = text.replace(char, ':')\n",
    "    return text\n",
    "\n",
    "\n",
    "text = 'Python Exercises, PHP exercises.'\n",
    "modified_text = replace_space_comma_dot_with_colon(text)\n",
    "print(\"Modified text:\", modified_text)\n"
   ]
  },
  {
   "cell_type": "code",
   "execution_count": null,
   "id": "1dc4d14e",
   "metadata": {},
   "outputs": [],
   "source": []
  },
  {
   "cell_type": "code",
   "execution_count": null,
   "id": "d972cae7",
   "metadata": {},
   "outputs": [],
   "source": []
  },
  {
   "cell_type": "code",
   "execution_count": null,
   "id": "35c9a5a0",
   "metadata": {},
   "outputs": [],
   "source": []
  },
  {
   "cell_type": "code",
   "execution_count": null,
   "id": "7d3edaa8",
   "metadata": {},
   "outputs": [],
   "source": []
  },
  {
   "cell_type": "code",
   "execution_count": null,
   "id": "828c1429",
   "metadata": {},
   "outputs": [],
   "source": []
  },
  {
   "cell_type": "code",
   "execution_count": null,
   "id": "281152ce",
   "metadata": {},
   "outputs": [],
   "source": []
  },
  {
   "cell_type": "code",
   "execution_count": null,
   "id": "336909f8",
   "metadata": {},
   "outputs": [],
   "source": []
  },
  {
   "cell_type": "code",
   "execution_count": null,
   "id": "13b440b8",
   "metadata": {},
   "outputs": [],
   "source": []
  },
  {
   "cell_type": "code",
   "execution_count": null,
   "id": "91955511",
   "metadata": {},
   "outputs": [],
   "source": []
  },
  {
   "cell_type": "code",
   "execution_count": null,
   "id": "751e493b",
   "metadata": {},
   "outputs": [],
   "source": []
  },
  {
   "cell_type": "code",
   "execution_count": null,
   "id": "d93d04b0",
   "metadata": {},
   "outputs": [],
   "source": []
  },
  {
   "cell_type": "code",
   "execution_count": null,
   "id": "461ac80b",
   "metadata": {},
   "outputs": [],
   "source": []
  },
  {
   "cell_type": "code",
   "execution_count": null,
   "id": "fdc93abd",
   "metadata": {},
   "outputs": [],
   "source": []
  },
  {
   "cell_type": "code",
   "execution_count": null,
   "id": "b8838817",
   "metadata": {},
   "outputs": [],
   "source": []
  },
  {
   "cell_type": "code",
   "execution_count": null,
   "id": "9624961a",
   "metadata": {},
   "outputs": [],
   "source": []
  },
  {
   "cell_type": "code",
   "execution_count": null,
   "id": "14731c3e",
   "metadata": {},
   "outputs": [],
   "source": []
  }
 ],
 "metadata": {
  "kernelspec": {
   "display_name": "Python 3 (ipykernel)",
   "language": "python",
   "name": "python3"
  },
  "language_info": {
   "codemirror_mode": {
    "name": "ipython",
    "version": 3
   },
   "file_extension": ".py",
   "mimetype": "text/x-python",
   "name": "python",
   "nbconvert_exporter": "python",
   "pygments_lexer": "ipython3",
   "version": "3.10.9"
  }
 },
 "nbformat": 4,
 "nbformat_minor": 5
}
